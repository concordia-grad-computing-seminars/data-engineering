{
 "cells": [
  {
   "cell_type": "markdown",
   "id": "eb072165-4f33-4ac0-893d-95ec82f20398",
   "metadata": {},
   "source": [
    "# Control statements"
   ]
  },
  {
   "cell_type": "code",
   "execution_count": 1,
   "id": "555616e3-76fe-4d0f-a19b-649f305c86c4",
   "metadata": {},
   "outputs": [
    {
     "data": {
      "image/jpeg": "[encoded data removed]",
      "text/html": [
       "\n",
       "        <iframe\n",
       "            width=\"800\"\n",
       "            height=\"300\"\n",
       "            src=\"https://www.youtube.com/embed/RpoUAGp7Pcc\"\n",
       "            frameborder=\"0\"\n",
       "            allowfullscreen\n",
       "            \n",
       "        ></iframe>\n",
       "        "
      ],
      "text/plain": [
       "<IPython.lib.display.YouTubeVideo at 0x7f44081fe5b0>"
      ]
     },
     "execution_count": 1,
     "metadata": {},
     "output_type": "execute_result"
    }
   ],
   "source": [
    "from IPython.display import YouTubeVideo\n",
    "YouTubeVideo('RpoUAGp7Pcc', width=800, height=300)"
   ]
  },
  {
   "cell_type": "markdown",
   "id": "67c5968e-66b2-456d-addf-ba7b6825e64e",
   "metadata": {},
   "source": [
    "## Whitespace formatting"
   ]
  },
  {
   "cell_type": "markdown",
   "id": "fdb93a4e-b39e-4c9a-9d13-e69bb7c1602a",
   "metadata": {},
   "source": [
    "Most programming languages use some special characters or keywords to delimit blocs in codes. For example `C++` or `Java` uses curly brackets `{...}` or `octave` uses keywords like `endif` or `endfunction`.\n",
    "\n",
    "Python has a different approach: it uses indentation or whitesapce formatting as in this example:"
   ]
  },
  {
   "cell_type": "code",
   "execution_count": 5,
   "id": "aba3448f-a502-4b00-9c34-bcf401c02e42",
   "metadata": {},
   "outputs": [
    {
     "name": "stdout",
     "output_type": "stream",
     "text": [
      "1\n",
      " >>  a\n",
      " >>  b\n",
      "2\n",
      " >>  a\n",
      " >>  b\n",
      "3\n",
      " >>  a\n",
      " >>  b\n"
     ]
    }
   ],
   "source": [
    "for i in [1, 2, 3]:\n",
    "    print(i)\n",
    "    for j in ['a', 'b']:\n",
    "        print(' >> ', j)"
   ]
  },
  {
   "cell_type": "markdown",
   "id": "17605325-7224-46ce-9ff2-0e72ef4be6d0",
   "metadata": {},
   "source": [
    "All lines whit a same indentation (same number of leading whitesapces) belong to a same bloc. The number of spaces can be chosen freely. But the [Python code style guide](https://peps.python.org/pep-0008/) recommends to use 4 characters. You could use `tab` instead but it is discouraged for new codes."
   ]
  },
  {
   "cell_type": "markdown",
   "id": "f93fe1de-096d-43ed-bc93-78d1f7b8a3b7",
   "metadata": {},
   "source": [
    "## If / Else statements"
   ]
  },
  {
   "cell_type": "markdown",
   "id": "3c9b70f1-106f-4932-b04e-c28cb6fe4058",
   "metadata": {},
   "source": [
    "The syntax for an [if/else statement](https://www.w3schools.com/python/python_conditions.asp) is this:"
   ]
  },
  {
   "cell_type": "code",
   "execution_count": 7,
   "id": "cba78ebd-110c-4556-b6f4-12347919e34e",
   "metadata": {},
   "outputs": [
    {
     "name": "stdout",
     "output_type": "stream",
     "text": [
      "Statemetn is true\n"
     ]
    }
   ],
   "source": [
    "if True:\n",
    "    print('Statemetn is true')\n",
    "else:\n",
    "    print('Statemetn was not true')"
   ]
  },
  {
   "cell_type": "markdown",
   "id": "3ca5e708-826e-44b2-8ec7-d714d08da232",
   "metadata": {},
   "source": [
    "An example:"
   ]
  },
  {
   "cell_type": "code",
   "execution_count": 8,
   "id": "e4a49c92-f0b1-4dc6-817b-cb85839c0a46",
   "metadata": {},
   "outputs": [
    {
     "name": "stdout",
     "output_type": "stream",
     "text": [
      "a is not equal to one. Let us set it to one\n",
      "1\n"
     ]
    }
   ],
   "source": [
    "a = 3\n",
    "\n",
    "if a == 1:\n",
    "    print('a is equal to one')\n",
    "else:\n",
    "    print('a is not equal to one. Let us set it to one')\n",
    "    a = 1\n",
    "    \n",
    "print(a)"
   ]
  },
  {
   "cell_type": "markdown",
   "id": "73da4490-7cda-4a75-b810-ba418ff634b9",
   "metadata": {},
   "source": [
    "## For loops"
   ]
  },
  {
   "cell_type": "markdown",
   "id": "9bd3f2e0-7267-4eae-afd7-fef1b106c143",
   "metadata": {},
   "source": [
    "The 'for' statement in Python has the same aim as in other languages (e.g. `C++` or `Java`), but its syntax is quite different. In Python a `for` loop iterates over a data structure (either a list, a tuple, a dictionary, a set, or a string).\n",
    "\n",
    "The usage is like this:"
   ]
  },
  {
   "cell_type": "code",
   "execution_count": 9,
   "id": "1e2286b2-f08d-42fe-b03a-aa031b4082cf",
   "metadata": {},
   "outputs": [
    {
     "name": "stdout",
     "output_type": "stream",
     "text": [
      "2\n",
      "3\n",
      "7\n"
     ]
    }
   ],
   "source": [
    "for i in [2, 3, 7]:\n",
    "    print(i)"
   ]
  },
  {
   "cell_type": "markdown",
   "id": "0817c118-7a9d-4a92-a116-622c18b3cdcc",
   "metadata": {},
   "source": [
    "To implement a \"traditional\" for loop in which we iterate over `i` form say 5 to 10, you can use the `range()` function to create the needed list like this (note the start and end values):"
   ]
  },
  {
   "cell_type": "code",
   "execution_count": 11,
   "id": "c6280444-b4d0-4c58-b039-5edb1ddc5d0f",
   "metadata": {},
   "outputs": [
    {
     "name": "stdout",
     "output_type": "stream",
     "text": [
      "5\n",
      "6\n",
      "7\n",
      "8\n",
      "9\n",
      "10\n"
     ]
    }
   ],
   "source": [
    "for i in range(5, 11):\n",
    "    print(i)"
   ]
  },
  {
   "cell_type": "markdown",
   "id": "d531b783-c47f-4c58-9ed7-6a3a4cfff81d",
   "metadata": {},
   "source": [
    "You can iterate over any kind of list. For example:"
   ]
  },
  {
   "cell_type": "code",
   "execution_count": 12,
   "id": "6cbbd326-e5d3-4938-8ef2-831ac83bd53d",
   "metadata": {},
   "outputs": [
    {
     "name": "stdout",
     "output_type": "stream",
     "text": [
      "one\n",
      "two\n",
      "three\n"
     ]
    }
   ],
   "source": [
    "for i in ['one', 'two', 'three']:\n",
    "    print(i)"
   ]
  },
  {
   "cell_type": "markdown",
   "id": "8cfb7cd5-61af-44be-91b5-ba43a9a5db96",
   "metadata": {},
   "source": [
    "Including over a string:"
   ]
  },
  {
   "cell_type": "code",
   "execution_count": 14,
   "id": "390abb2b-dbe4-414a-9e84-38bf504003dc",
   "metadata": {},
   "outputs": [
    {
     "name": "stdout",
     "output_type": "stream",
     "text": [
      "H\n",
      "e\n",
      "l\n",
      "l\n",
      "o\n"
     ]
    }
   ],
   "source": [
    "for i in 'Hello':\n",
    "    print(i)"
   ]
  },
  {
   "cell_type": "markdown",
   "id": "22f868d9-b20b-4556-84d5-16bf6b9835ec",
   "metadata": {},
   "source": [
    "## While loop"
   ]
  },
  {
   "cell_type": "markdown",
   "id": "53d72275-16de-456d-bcfc-87421f6cf9ac",
   "metadata": {},
   "source": [
    "With a [while](https://www.w3schools.com/python/python_while_loops.asp) loop we can execute a set of statements as long as a condition is true. The syntax is like that:"
   ]
  },
  {
   "cell_type": "code",
   "execution_count": 16,
   "id": "6d2a628f-15e7-4f95-b799-0574aca8aff0",
   "metadata": {},
   "outputs": [
    {
     "name": "stdout",
     "output_type": "stream",
     "text": [
      "2\n",
      "3\n",
      "4\n"
     ]
    }
   ],
   "source": [
    "i = 2\n",
    "while i<5:\n",
    "    print(i)\n",
    "    i = i + 1"
   ]
  },
  {
   "cell_type": "markdown",
   "id": "c4bd6d26-7d5a-4aae-98de-ff91a1f7b0f8",
   "metadata": {},
   "source": [
    "To avoid endless loops, do not forget to update something in the body of the loop which can make the condition become false. To stop an endless loop you would have to shudown your kernel or your JupyterHub server."
   ]
  },
  {
   "cell_type": "markdown",
   "id": "5c9a95af-bb23-497d-9996-1c0b0b102d20",
   "metadata": {},
   "source": [
    "### Break statement"
   ]
  },
  {
   "cell_type": "markdown",
   "id": "72d8b370-c19f-495a-984d-0f83b35c0b9b",
   "metadata": {},
   "source": [
    "A while loop can be terminated immediately with the `break` statement (valid for `for` loops too):"
   ]
  },
  {
   "cell_type": "code",
   "execution_count": 3,
   "id": "516abeef-3fc7-4d51-88ef-e068e35e74c3",
   "metadata": {},
   "outputs": [
    {
     "name": "stdout",
     "output_type": "stream",
     "text": [
      "2\n",
      "3\n",
      "4\n"
     ]
    }
   ],
   "source": [
    "i = 2\n",
    "while True:\n",
    "    print(i)\n",
    "    if i == 4:\n",
    "        break\n",
    "    i = i + 1"
   ]
  },
  {
   "cell_type": "markdown",
   "id": "6644be69-499f-4e82-b382-484edb6c0094",
   "metadata": {},
   "source": [
    "### Continue statement"
   ]
  },
  {
   "cell_type": "markdown",
   "id": "8f569665-d3a8-46a6-959c-6096f798cecf",
   "metadata": {},
   "source": [
    "With the `continue` statement we can stop the current iteration, and continue with the next:"
   ]
  },
  {
   "cell_type": "code",
   "execution_count": 3,
   "id": "f9ffd6c3-c64d-412e-b3f2-e5a488c1b471",
   "metadata": {},
   "outputs": [
    {
     "name": "stdout",
     "output_type": "stream",
     "text": [
      "3\n",
      "5\n",
      "6\n"
     ]
    }
   ],
   "source": [
    "i = 2\n",
    "while i < 6:\n",
    "    i = i + 1\n",
    "    if i == 4:\n",
    "        continue\n",
    "    print(i)"
   ]
  },
  {
   "cell_type": "code",
   "execution_count": null,
   "id": "41813492-2c4a-4b8c-a6c8-e1347acc4e18",
   "metadata": {},
   "outputs": [],
   "source": []
  }
 ],
 "metadata": {
  "kernelspec": {
   "display_name": "Python 3 (ipykernel)",
   "language": "python",
   "name": "python3"
  },
  "language_info": {
   "codemirror_mode": {
    "name": "ipython",
    "version": 3
   },
   "file_extension": ".py",
   "mimetype": "text/x-python",
   "name": "python",
   "nbconvert_exporter": "python",
   "pygments_lexer": "ipython3",
   "version": "3.9.12"
  }
 },
 "nbformat": 4,
 "nbformat_minor": 5
}
