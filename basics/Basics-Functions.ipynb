{
 "cells": [
  {
   "cell_type": "markdown",
   "id": "c12a796e-438b-468f-bb2e-7e6a67e47082",
   "metadata": {},
   "source": [
    "# Functions"
   ]
  },
  {
   "cell_type": "code",
   "execution_count": 1,
   "id": "17464d27-28fe-427d-aab7-b31dc7371539",
   "metadata": {},
   "outputs": [
    {
     "data": {
      "image/jpeg": "[encoded data removed]",
      "text/html": [
       "\n",
       "        <iframe\n",
       "            width=\"800\"\n",
       "            height=\"300\"\n",
       "            src=\"https://www.youtube.com/embed/h6HtK3F-RUk\"\n",
       "            frameborder=\"0\"\n",
       "            allowfullscreen\n",
       "            \n",
       "        ></iframe>\n",
       "        "
      ],
      "text/plain": [
       "<IPython.lib.display.YouTubeVideo at 0x7f74b4209910>"
      ]
     },
     "execution_count": 1,
     "metadata": {},
     "output_type": "execute_result"
    }
   ],
   "source": [
    "from IPython.display import YouTubeVideo\n",
    "YouTubeVideo('h6HtK3F-RUk', width=800, height=300)"
   ]
  },
  {
   "cell_type": "markdown",
   "id": "ca6a2fec-0289-4ad1-ba6c-fe9e299bb049",
   "metadata": {},
   "source": [
    "## Defining functions"
   ]
  },
  {
   "cell_type": "markdown",
   "id": "180544e4-08b7-49cf-9fe2-2874f5c2e92d",
   "metadata": {},
   "source": [
    "Functions are dinfed like this:"
   ]
  },
  {
   "cell_type": "code",
   "execution_count": 2,
   "id": "d1947d2d-a17b-4a97-af69-b025121d3573",
   "metadata": {},
   "outputs": [],
   "source": [
    "def my_func(var1, var2):\n",
    "    pass"
   ]
  },
  {
   "cell_type": "markdown",
   "id": "55f22d23-9a31-4082-9c4e-356397712d54",
   "metadata": {},
   "source": [
    "- The keyword `def` indicates we are defining a new function.\n",
    "- The next element is the name we want to give to our function.\n",
    "- The elements within the parentheses are the function arguments.\n",
    "- Note the semi-colon `:` at the end of the line which is required to end the definition of the header of the function.\n",
    "- Whatever follows after is the body of the function. Note the required indentation (the blanks before the commands inside the body)\n",
    "\n",
    "This function does nothing. To avoid any error, we use the keyword `pass`. This is common when you start prototyping your code architecture."
   ]
  },
  {
   "cell_type": "markdown",
   "id": "df26f822-5d00-435e-bd45-609e0d964e49",
   "metadata": {},
   "source": [
    "Once defined a function can be called. As our function does nothing, nothing will happen neither. Note that we have to provide the same number of arguments as we did in our function definition."
   ]
  },
  {
   "cell_type": "code",
   "execution_count": 3,
   "id": "30961bfb-b8a3-4ab2-9651-87955e1a34ce",
   "metadata": {},
   "outputs": [],
   "source": [
    "my_func(1, 2)"
   ]
  },
  {
   "cell_type": "markdown",
   "id": "f30649fa-a44b-4a95-9430-65910cf2ba4c",
   "metadata": {},
   "source": [
    "Functions can execute tasks for us. For example:"
   ]
  },
  {
   "cell_type": "code",
   "execution_count": 4,
   "id": "b7ce8c71-805f-4c39-9242-7ebaed731e5a",
   "metadata": {},
   "outputs": [],
   "source": [
    "def double_number_v1(x):\n",
    "    \"\"\"\n",
    "    Computes the double of a number\n",
    "    \"\"\"\n",
    "    print(2*x)"
   ]
  },
  {
   "cell_type": "code",
   "execution_count": 5,
   "id": "e6a596f8-5470-43eb-93db-db01b6946ce5",
   "metadata": {},
   "outputs": [
    {
     "name": "stdout",
     "output_type": "stream",
     "text": [
      "6\n"
     ]
    }
   ],
   "source": [
    "double_number_v1(3)"
   ]
  },
  {
   "cell_type": "markdown",
   "id": "7e1c2182-3b5e-4647-a459-a1f7101c8b23",
   "metadata": {},
   "source": [
    "## Return values"
   ]
  },
  {
   "cell_type": "markdown",
   "id": "138c4e2f-88c7-487f-b8ee-6f0915ad0b86",
   "metadata": {},
   "source": [
    "Often you want to recuperate some output the function did compute. This is achived with the `return` keyword:"
   ]
  },
  {
   "cell_type": "code",
   "execution_count": 6,
   "id": "b47d670d-be91-4d6d-bb49-caf3c046d919",
   "metadata": {},
   "outputs": [],
   "source": [
    "def double_number_v2(x):\n",
    "    \"\"\"\n",
    "    Computes the double of a number\n",
    "    \"\"\"\n",
    "    return 2*x"
   ]
  },
  {
   "cell_type": "code",
   "execution_count": 7,
   "id": "56359907-75a4-466f-b664-bd47820240d7",
   "metadata": {},
   "outputs": [
    {
     "data": {
      "text/plain": [
       "6"
      ]
     },
     "execution_count": 7,
     "metadata": {},
     "output_type": "execute_result"
    }
   ],
   "source": [
    "double_number_v2(3)"
   ]
  },
  {
   "cell_type": "markdown",
   "id": "e6e3c82c-16cc-4871-a128-649364227ff3",
   "metadata": {},
   "source": [
    "This does not look much different than the function `double_number_v1` we defined previously. But it is actually very different. In this new version e can do something like this:"
   ]
  },
  {
   "cell_type": "code",
   "execution_count": 8,
   "id": "0f39144c-bf83-46fa-bff8-22f3eb096d9f",
   "metadata": {},
   "outputs": [],
   "source": [
    "y = double_number_v2(3)"
   ]
  },
  {
   "cell_type": "markdown",
   "id": "1268bb10-aa12-44cd-8c95-c40802a9af2d",
   "metadata": {},
   "source": [
    "The answer is now stored in the variable `y`. This is not possible with the other version of the function:"
   ]
  },
  {
   "cell_type": "code",
   "execution_count": 9,
   "id": "f756dc18-9426-41aa-bd7f-613ec76cd43e",
   "metadata": {},
   "outputs": [
    {
     "name": "stdout",
     "output_type": "stream",
     "text": [
      "6\n"
     ]
    }
   ],
   "source": [
    "z = double_number_v1(3)"
   ]
  },
  {
   "cell_type": "markdown",
   "id": "da53287a-eba8-42ba-9317-2d7e2e828f44",
   "metadata": {},
   "source": [
    "Note the the variable `z` does not contain the answer 6:"
   ]
  },
  {
   "cell_type": "code",
   "execution_count": 10,
   "id": "890feef5-eda1-46b2-b642-85221a6f4357",
   "metadata": {},
   "outputs": [
    {
     "name": "stdout",
     "output_type": "stream",
     "text": [
      "None\n"
     ]
    }
   ],
   "source": [
    "print(z)"
   ]
  },
  {
   "cell_type": "markdown",
   "id": "cbe79689-2dfd-440d-b4b3-c11aae63a14b",
   "metadata": {},
   "source": [
    "## Function arguments and local variables"
   ]
  },
  {
   "cell_type": "markdown",
   "id": "9c341d0f-79a5-4a56-86f8-a17c449c6ebb",
   "metadata": {},
   "source": [
    "Function arguments allow to pass input values to a function. They become local variables to the function body.\n",
    "\n",
    "Consider our function `double_number_v2`. The argument created the local variable `x` which is available within the function body. This variable is not available outside the function. Attempting to access `x` results in an error:"
   ]
  },
  {
   "cell_type": "code",
   "execution_count": 11,
   "id": "82cb0058-2efd-4119-9e32-6816ddf97c09",
   "metadata": {},
   "outputs": [
    {
     "ename": "NameError",
     "evalue": "name 'x' is not defined",
     "output_type": "error",
     "traceback": [
      "\u001b[0;31m---------------------------------------------------------------------------\u001b[0m",
      "\u001b[0;31mNameError\u001b[0m                                 Traceback (most recent call last)",
      "Cell \u001b[0;32mIn[11], line 2\u001b[0m\n\u001b[1;32m      1\u001b[0m y \u001b[38;5;241m=\u001b[39m double_number_v2(\u001b[38;5;241m3\u001b[39m)\n\u001b[0;32m----> 2\u001b[0m \u001b[38;5;28mprint\u001b[39m(\u001b[43mx\u001b[49m)\n",
      "\u001b[0;31mNameError\u001b[0m: name 'x' is not defined"
     ]
    }
   ],
   "source": [
    "y = double_number_v2(3)\n",
    "print(x)"
   ]
  },
  {
   "cell_type": "markdown",
   "id": "87e807b2-96b5-4e03-a297-3192bf0b085a",
   "metadata": {},
   "source": [
    "This is very important. In this way variables within a function body remain local and do not interfere with global variables as shows this small code:"
   ]
  },
  {
   "cell_type": "code",
   "execution_count": 12,
   "id": "a8fa0046-c5c2-4876-93aa-432d3545c065",
   "metadata": {},
   "outputs": [
    {
     "name": "stdout",
     "output_type": "stream",
     "text": [
      "5\n"
     ]
    }
   ],
   "source": [
    "x = 5\n",
    "y = double_number_v2(3)\n",
    "print(x)"
   ]
  },
  {
   "cell_type": "markdown",
   "id": "b07277ab-2832-440d-8e94-633fc5a4ef55",
   "metadata": {},
   "source": [
    "The variable `x` was not changed by the local variable having same name within the function. This is true for any variable defined within the function body:"
   ]
  },
  {
   "cell_type": "code",
   "execution_count": 13,
   "id": "90e49c19-80ab-4b50-94b2-7bcc84b3d318",
   "metadata": {},
   "outputs": [],
   "source": [
    "def my_func(x):\n",
    "    \"\"\"\n",
    "    Illustrates the useage of local variables\n",
    "    \"\"\"\n",
    "    y = 3\n",
    "    return x+y"
   ]
  },
  {
   "cell_type": "code",
   "execution_count": 14,
   "id": "59521d84-21b1-43bb-9972-4604bea60528",
   "metadata": {},
   "outputs": [
    {
     "name": "stdout",
     "output_type": "stream",
     "text": [
      "1 2\n"
     ]
    }
   ],
   "source": [
    "x = 1\n",
    "y = 2\n",
    "z = my_func(7)\n",
    "print(x, y)"
   ]
  },
  {
   "cell_type": "markdown",
   "id": "84b11183-33e6-4bb5-a4a5-e11de8b1293b",
   "metadata": {},
   "source": [
    "Neither the variable `x` nor `y` got affected by the local variable sof the function."
   ]
  },
  {
   "cell_type": "markdown",
   "id": "30b8be38-e5b0-4183-979e-e32487284dfc",
   "metadata": {},
   "source": [
    "## Default and named arguments"
   ]
  },
  {
   "cell_type": "markdown",
   "id": "e6fdadc2-a3ca-4358-ac14-95a9b014bdb9",
   "metadata": {},
   "source": [
    "Sometimes you want to define a function which has some default values for the argument(s) you provide. This is achieved like this (Important: default arguments must always come at the end):"
   ]
  },
  {
   "cell_type": "code",
   "execution_count": 15,
   "id": "c7ea5f84-7f40-4653-82a8-8ef1c0dc2268",
   "metadata": {},
   "outputs": [],
   "source": [
    "def multiplier(x, k=2):\n",
    "    \"\"\"\n",
    "    Mutiplies a number by a constant factor\n",
    "    \"\"\"\n",
    "    return k*x"
   ]
  },
  {
   "cell_type": "markdown",
   "id": "c85a1d45-5466-4443-82c7-50c16f9c1d55",
   "metadata": {},
   "source": [
    "The second argument, the multiplication factor, does not have to be provided:"
   ]
  },
  {
   "cell_type": "code",
   "execution_count": 16,
   "id": "71caca7e-a70b-4c63-b7df-5c499d08c890",
   "metadata": {},
   "outputs": [
    {
     "data": {
      "text/plain": [
       "6"
      ]
     },
     "execution_count": 16,
     "metadata": {},
     "output_type": "execute_result"
    }
   ],
   "source": [
    "multiplier(3)"
   ]
  },
  {
   "cell_type": "markdown",
   "id": "66b6fdab-4267-49b3-9006-b1f0023ebd72",
   "metadata": {},
   "source": [
    "Or, it can be provided, in which case the default value (`k=2` in our case) gets overwritten:"
   ]
  },
  {
   "cell_type": "code",
   "execution_count": 17,
   "id": "4bcc9483-3296-40f3-8b9c-54cc04cbf846",
   "metadata": {},
   "outputs": [
    {
     "data": {
      "text/plain": [
       "12"
      ]
     },
     "execution_count": 17,
     "metadata": {},
     "output_type": "execute_result"
    }
   ],
   "source": [
    "multiplier(3, 4)"
   ]
  },
  {
   "cell_type": "markdown",
   "id": "552c5cb4-72e6-4548-aa1b-e3dadba73c81",
   "metadata": {},
   "source": [
    "If functions have many arguments, it can be come hard to read a code. Consider this example:"
   ]
  },
  {
   "cell_type": "code",
   "execution_count": 18,
   "id": "4abc220d-3db2-437a-b765-284f4cab1e3f",
   "metadata": {},
   "outputs": [],
   "source": [
    "import math\n",
    "\n",
    "def solve_quad(a, b, c):\n",
    "    \"\"\"\n",
    "    Solves a quadratic equation and provides one of the roots\n",
    "    \"\"\"\n",
    "    return (-b + math.sqrt(b**2 - 4*a*c)) / 2*a"
   ]
  },
  {
   "cell_type": "code",
   "execution_count": 19,
   "id": "a7b30a0b-bab6-4873-9525-97f1972fadaf",
   "metadata": {},
   "outputs": [
    {
     "data": {
      "text/plain": [
       "2.0"
      ]
     },
     "execution_count": 19,
     "metadata": {},
     "output_type": "execute_result"
    }
   ],
   "source": [
    "solve_quad(1, 1, -6)"
   ]
  },
  {
   "cell_type": "markdown",
   "id": "a040ae0f-db6a-4c2d-ad73-82b8fcbd578e",
   "metadata": {},
   "source": [
    "It is hard to know in which order the coefficients of the quadratic equation are given. Python allows you to name the arguments like this:"
   ]
  },
  {
   "cell_type": "code",
   "execution_count": 20,
   "id": "39875478-2c32-4fcc-aa26-65d09e39768c",
   "metadata": {},
   "outputs": [
    {
     "data": {
      "text/plain": [
       "2.0"
      ]
     },
     "execution_count": 20,
     "metadata": {},
     "output_type": "execute_result"
    }
   ],
   "source": [
    "solve_quad(a=1, b=1, c=-6)"
   ]
  },
  {
   "cell_type": "markdown",
   "id": "8ff922a2-3fc0-4847-850c-01c93faaad93",
   "metadata": {},
   "source": [
    "You are even allowed to change their order (which is not the case if you do not name the arguments!)"
   ]
  },
  {
   "cell_type": "code",
   "execution_count": 21,
   "id": "5396d8bc-68f0-4b45-80a2-0360141ef375",
   "metadata": {},
   "outputs": [
    {
     "data": {
      "text/plain": [
       "2.0"
      ]
     },
     "execution_count": 21,
     "metadata": {},
     "output_type": "execute_result"
    }
   ],
   "source": [
    "solve_quad(c=-6, b=1, a=1)"
   ]
  },
  {
   "cell_type": "code",
   "execution_count": null,
   "id": "8b0dec71-1ca0-4935-9181-0136a4dc2502",
   "metadata": {},
   "outputs": [],
   "source": []
  }
 ],
 "metadata": {
  "kernelspec": {
   "display_name": "Python 3 (ipykernel)",
   "language": "python",
   "name": "python3"
  },
  "language_info": {
   "codemirror_mode": {
    "name": "ipython",
    "version": 3
   },
   "file_extension": ".py",
   "mimetype": "text/x-python",
   "name": "python",
   "nbconvert_exporter": "python",
   "pygments_lexer": "ipython3",
   "version": "3.9.12"
  }
 },
 "nbformat": 4,
 "nbformat_minor": 5
}
