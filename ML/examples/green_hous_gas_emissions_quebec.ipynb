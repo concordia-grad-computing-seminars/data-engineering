{
 "cells": [
  {
   "cell_type": "markdown",
   "id": "ae874716-cb5b-465d-9010-393a57f2821d",
   "metadata": {},
   "source": [
    "# Green house gas emissions in Quebec"
   ]
  },
  {
   "cell_type": "markdown",
   "id": "5b58a9e5-351b-40a7-a0f9-7ae1ed1af4ce",
   "metadata": {},
   "source": [
    "<a target=\"_blank\" href=\"https://colab.research.google.com/github/concordia-grad-computing-seminars/data-engineering/blob/main/ML/examples/green_hous_gas_emissions_quebec.ipynb\">\n",
    "  <img src=\"https://colab.research.google.com/assets/colab-badge.svg\" alt=\"Open In Colab\"/>\n",
    "</a>"
   ]
  },
  {
   "cell_type": "markdown",
   "id": "731a3bbb-20b4-43dc-8590-cf669641e4b6",
   "metadata": {},
   "source": [
    "## Libraries"
   ]
  },
  {
   "cell_type": "code",
   "execution_count": 1,
   "id": "72b19cc4-8739-439c-83d5-f53d3a107f09",
   "metadata": {},
   "outputs": [],
   "source": [
    "import pandas as pd\n",
    "import numpy as np\n",
    "import matplotlib.pyplot as plt\n",
    "\n",
    "import ipywidgets as widgets\n",
    "from ipywidgets import interact\n",
    "\n",
    "from sklearn.model_selection import train_test_split\n",
    "from sklearn.model_selection import cross_validate\n",
    "from sklearn.preprocessing import OneHotEncoder\n",
    "from sklearn.preprocessing import StandardScaler\n",
    "from sklearn.preprocessing import PolynomialFeatures\n",
    "from sklearn.compose import ColumnTransformer\n",
    "from sklearn.pipeline import Pipeline\n",
    "from sklearn.neighbors import KNeighborsRegressor\n",
    "from sklearn.linear_model import LinearRegression\n",
    "from sklearn.metrics import mean_squared_error"
   ]
  },
  {
   "cell_type": "markdown",
   "id": "0948ed9a-2c49-4f18-958a-49ce74592703",
   "metadata": {},
   "source": [
    "## Data"
   ]
  },
  {
   "cell_type": "markdown",
   "id": "b0459a30-2917-4870-9646-f194a9709466",
   "metadata": {},
   "source": [
    "Data source: https://www.donneesquebec.ca/recherche/dataset/inventaire-quebecois-des-emissions-de-gaz-a-effet-de-serre<br>\n",
    "License: https://www.donneesquebec.ca/licence/#cc-by\n",
    "\n",
    "Dataset: Inventaire québécois des émissions de gaz à effet de serre \n",
    "```\n",
    "| Field               | Description                                                    |\n",
    "| ------------------- | -------------------------------------------------------------- |\n",
    "| Annee               | year                                                           |\n",
    "| Secteur             | sector of activity                                             |\n",
    "| Sous-secteur        | sub-sector of activity                                         |\n",
    "| Categorie           | category                                                       |\n",
    "| Emissions(t_eq_CO2) | green house gas emissions in tons of carbon dioxide equivalent |\n",
    "```\n",
    "\n",
    "Definition of of carbon dioxide equivalent: https://en.wikipedia.org/wiki/Global_warming_potential"
   ]
  },
  {
   "cell_type": "code",
   "execution_count": 2,
   "id": "1a3746cb-ab37-402f-ab8a-27e6f0f96c4b",
   "metadata": {},
   "outputs": [],
   "source": [
    "url = 'https://www.donneesquebec.ca/recherche/dataset/08fbecd2-2532-408a-b153-ab00bad3ff31/resource/99fb6b0e-edac-455f-8c8a-c0bb4ef92255/download/inventaire-ges.csv' \n",
    "raw_data = pd.read_csv(url, sep=';')"
   ]
  },
  {
   "cell_type": "code",
   "execution_count": 3,
   "id": "8e6a1db7-f7a7-461d-98f4-b7a0a3ddff65",
   "metadata": {},
   "outputs": [
    {
     "data": {
      "text/html": [
       "<div>\n",
       "<style scoped>\n",
       "    .dataframe tbody tr th:only-of-type {\n",
       "        vertical-align: middle;\n",
       "    }\n",
       "\n",
       "    .dataframe tbody tr th {\n",
       "        vertical-align: top;\n",
       "    }\n",
       "\n",
       "    .dataframe thead th {\n",
       "        text-align: right;\n",
       "    }\n",
       "</style>\n",
       "<table border=\"1\" class=\"dataframe\">\n",
       "  <thead>\n",
       "    <tr style=\"text-align: right;\">\n",
       "      <th></th>\n",
       "      <th>Annee</th>\n",
       "      <th>Secteur</th>\n",
       "      <th>Sous-secteur</th>\n",
       "      <th>Categorie</th>\n",
       "      <th>Emissions(t_eq_CO2)</th>\n",
       "    </tr>\n",
       "  </thead>\n",
       "  <tbody>\n",
       "    <tr>\n",
       "      <th>0</th>\n",
       "      <td>1990</td>\n",
       "      <td>Transports</td>\n",
       "      <td>Transport routier</td>\n",
       "      <td>Automobiles</td>\n",
       "      <td>1.085804e+07</td>\n",
       "    </tr>\n",
       "    <tr>\n",
       "      <th>1</th>\n",
       "      <td>1990</td>\n",
       "      <td>Transports</td>\n",
       "      <td>Transport routier</td>\n",
       "      <td>Camions légers</td>\n",
       "      <td>3.636960e+06</td>\n",
       "    </tr>\n",
       "    <tr>\n",
       "      <th>2</th>\n",
       "      <td>1990</td>\n",
       "      <td>Transports</td>\n",
       "      <td>Transport routier</td>\n",
       "      <td>Véhicules lourds</td>\n",
       "      <td>3.602432e+06</td>\n",
       "    </tr>\n",
       "    <tr>\n",
       "      <th>3</th>\n",
       "      <td>1990</td>\n",
       "      <td>Transports</td>\n",
       "      <td>Transport routier</td>\n",
       "      <td>Autres transports routiers</td>\n",
       "      <td>1.824648e+04</td>\n",
       "    </tr>\n",
       "    <tr>\n",
       "      <th>4</th>\n",
       "      <td>1990</td>\n",
       "      <td>Transports</td>\n",
       "      <td>Autres transports</td>\n",
       "      <td>Véhicules hors route - Agriculture et foresterie</td>\n",
       "      <td>9.985400e+05</td>\n",
       "    </tr>\n",
       "  </tbody>\n",
       "</table>\n",
       "</div>"
      ],
      "text/plain": [
       "   Annee     Secteur       Sous-secteur  \\\n",
       "0   1990  Transports  Transport routier   \n",
       "1   1990  Transports  Transport routier   \n",
       "2   1990  Transports  Transport routier   \n",
       "3   1990  Transports  Transport routier   \n",
       "4   1990  Transports  Autres transports   \n",
       "\n",
       "                                          Categorie  Emissions(t_eq_CO2)  \n",
       "0                                       Automobiles         1.085804e+07  \n",
       "1                                    Camions légers         3.636960e+06  \n",
       "2                                  Véhicules lourds         3.602432e+06  \n",
       "3                        Autres transports routiers         1.824648e+04  \n",
       "4  Véhicules hors route - Agriculture et foresterie         9.985400e+05  "
      ]
     },
     "execution_count": 3,
     "metadata": {},
     "output_type": "execute_result"
    }
   ],
   "source": [
    "raw_data.head()"
   ]
  },
  {
   "cell_type": "code",
   "execution_count": 4,
   "id": "32d7a31f-8999-49bf-9ce8-d1eec3f005e0",
   "metadata": {},
   "outputs": [
    {
     "data": {
      "text/plain": [
       "array([1990, 1991, 1992, 1993, 1994, 1995, 1996, 1997, 1998, 1999, 2000,\n",
       "       2001, 2002, 2003, 2004, 2005, 2006, 2007, 2008, 2009, 2010, 2011,\n",
       "       2012, 2013, 2014, 2015, 2016, 2017, 2018, 2019, 2020])"
      ]
     },
     "execution_count": 4,
     "metadata": {},
     "output_type": "execute_result"
    }
   ],
   "source": [
    "raw_data.Annee.unique()"
   ]
  },
  {
   "cell_type": "code",
   "execution_count": 5,
   "id": "4811aa76-ee3a-4e46-946e-75931731877f",
   "metadata": {},
   "outputs": [
    {
     "data": {
      "text/plain": [
       "array(['Transports', 'Industries',\n",
       "       'Résidentiel, commercial et institutionnel', 'Agriculture',\n",
       "       'Matières résiduelles', 'Électricité'], dtype=object)"
      ]
     },
     "execution_count": 5,
     "metadata": {},
     "output_type": "execute_result"
    }
   ],
   "source": [
    "raw_data.Secteur.unique()"
   ]
  },
  {
   "cell_type": "markdown",
   "id": "6b78722b-cf4c-4c3f-8bc4-0f032534ee62",
   "metadata": {},
   "source": [
    "For our purpose we are interested in the total green house gas emissions per sectors over the years."
   ]
  },
  {
   "cell_type": "code",
   "execution_count": 6,
   "id": "cd75094e-75ad-4497-87df-d100d4f4acc6",
   "metadata": {},
   "outputs": [],
   "source": [
    "df = raw_data.groupby(['Annee', 'Secteur']).agg(\n",
    "     EmissionsTotales = ('Emissions(t_eq_CO2)','sum')\n",
    "     ).reset_index()"
   ]
  },
  {
   "cell_type": "code",
   "execution_count": 7,
   "id": "e91b38a2-d50f-48ea-aa70-747deebfdad1",
   "metadata": {},
   "outputs": [
    {
     "data": {
      "text/html": [
       "<div>\n",
       "<style scoped>\n",
       "    .dataframe tbody tr th:only-of-type {\n",
       "        vertical-align: middle;\n",
       "    }\n",
       "\n",
       "    .dataframe tbody tr th {\n",
       "        vertical-align: top;\n",
       "    }\n",
       "\n",
       "    .dataframe thead th {\n",
       "        text-align: right;\n",
       "    }\n",
       "</style>\n",
       "<table border=\"1\" class=\"dataframe\">\n",
       "  <thead>\n",
       "    <tr style=\"text-align: right;\">\n",
       "      <th></th>\n",
       "      <th>Annee</th>\n",
       "      <th>Secteur</th>\n",
       "      <th>EmissionsTotales</th>\n",
       "    </tr>\n",
       "  </thead>\n",
       "  <tbody>\n",
       "    <tr>\n",
       "      <th>0</th>\n",
       "      <td>1990</td>\n",
       "      <td>Agriculture</td>\n",
       "      <td>7.117844e+06</td>\n",
       "    </tr>\n",
       "    <tr>\n",
       "      <th>1</th>\n",
       "      <td>1990</td>\n",
       "      <td>Industries</td>\n",
       "      <td>3.207667e+07</td>\n",
       "    </tr>\n",
       "    <tr>\n",
       "      <th>2</th>\n",
       "      <td>1990</td>\n",
       "      <td>Matières résiduelles</td>\n",
       "      <td>6.242370e+06</td>\n",
       "    </tr>\n",
       "    <tr>\n",
       "      <th>3</th>\n",
       "      <td>1990</td>\n",
       "      <td>Résidentiel, commercial et institutionnel</td>\n",
       "      <td>1.121535e+07</td>\n",
       "    </tr>\n",
       "    <tr>\n",
       "      <th>4</th>\n",
       "      <td>1990</td>\n",
       "      <td>Transports</td>\n",
       "      <td>2.720549e+07</td>\n",
       "    </tr>\n",
       "  </tbody>\n",
       "</table>\n",
       "</div>"
      ],
      "text/plain": [
       "   Annee                                    Secteur  EmissionsTotales\n",
       "0   1990                                Agriculture      7.117844e+06\n",
       "1   1990                                 Industries      3.207667e+07\n",
       "2   1990                       Matières résiduelles      6.242370e+06\n",
       "3   1990  Résidentiel, commercial et institutionnel      1.121535e+07\n",
       "4   1990                                 Transports      2.720549e+07"
      ]
     },
     "execution_count": 7,
     "metadata": {},
     "output_type": "execute_result"
    }
   ],
   "source": [
    "df.head()"
   ]
  },
  {
   "cell_type": "code",
   "execution_count": 8,
   "id": "3e39ca87-5a4e-4043-a627-db87075cfd6d",
   "metadata": {},
   "outputs": [
    {
     "data": {
      "application/vnd.jupyter.widget-view+json": {
       "model_id": "43475fa0dbdd4ec88cef939b515eb81e",
       "version_major": 2,
       "version_minor": 0
      },
      "text/plain": [
       "interactive(children=(Dropdown(description='Sector', options=('Agriculture', 'Industries', 'Matières résiduell…"
      ]
     },
     "metadata": {},
     "output_type": "display_data"
    }
   ],
   "source": [
    "@interact(sector=widgets.Dropdown(options=df.Secteur.unique(),\n",
    "                                description='Sector'))\n",
    "def total_emissions_sector(sector):\n",
    "    \"\"\"\n",
    "    Total green house gas emissions for a sector over the years\n",
    "    \"\"\"\n",
    "    plt.plot(df[df.Secteur==sector].Annee, df[df.Secteur==sector].EmissionsTotales/1E6)\n",
    "    plt.xlabel('Year')\n",
    "    plt.ylabel(\"Green House Gas Emission (Equ. Mega Tonns of CO$_2$)\")\n",
    "    plt.xticks(rotation=45,  ha='right')\n",
    "    plt.show()"
   ]
  },
  {
   "cell_type": "markdown",
   "id": "c0d65cf8-8a1b-4e7e-bdf1-9eabe7f9047d",
   "metadata": {
    "tags": []
   },
   "source": [
    "## KNN Model"
   ]
  },
  {
   "cell_type": "code",
   "execution_count": 9,
   "id": "c3e2adff-37bd-43a8-a387-9b59742f7daa",
   "metadata": {},
   "outputs": [],
   "source": [
    "# Features matrix X and target values y\n",
    "X = np.c_[df.Annee, df.Secteur]\n",
    "y = np.c_[df.EmissionsTotales]\n",
    "\n",
    "# Training and test sets\n",
    "X_train, X_test, y_train, y_test = train_test_split(X, y, test_size=0.1)"
   ]
  },
  {
   "cell_type": "code",
   "execution_count": 10,
   "id": "b9826b8b-794d-40e6-81bc-adf916781be4",
   "metadata": {},
   "outputs": [],
   "source": [
    "def createModel(k):\n",
    "    \"\"\"\n",
    "    Creates pipeline for the model\n",
    "    \"\"\"\n",
    "    \n",
    "    # numerical features\n",
    "    numeric_features = [0]\n",
    "    numeric_transformer = Pipeline(\n",
    "        steps=[\n",
    "            (\"scaler\", StandardScaler())\n",
    "        ]\n",
    "    )\n",
    "\n",
    "    # categorical features\n",
    "    categorical_features = [1]\n",
    "    cat = [df.Secteur.unique()]\n",
    "    categorical_transformer = Pipeline(\n",
    "        steps=[\n",
    "            (\"encoder\", OneHotEncoder(categories=cat))\n",
    "        ]\n",
    "    )\n",
    "\n",
    "    # pre-processing pipeline\n",
    "    preprocessor = ColumnTransformer(\n",
    "        transformers=[\n",
    "            (\"num\", numeric_transformer, numeric_features),\n",
    "            (\"cat\", categorical_transformer, categorical_features),\n",
    "        ]\n",
    "    )\n",
    "\n",
    "    # model pipeline\n",
    "    mod = Pipeline(\n",
    "        steps=[(\"preprocessor\", preprocessor), (\"regression\", KNeighborsRegressor(k))]\n",
    "    )\n",
    "    return mod"
   ]
  },
  {
   "cell_type": "markdown",
   "id": "5b4a02a0-4fb9-4fff-87a2-6e6b19555d2a",
   "metadata": {},
   "source": [
    "### Cross validation to determine the number of nearest neighbors in the `KNeighborsRegressor`"
   ]
  },
  {
   "cell_type": "code",
   "execution_count": 11,
   "id": "38feabdd-86cd-4725-92a5-9c8e23366d18",
   "metadata": {},
   "outputs": [
    {
     "data": {
      "image/png": "[encoded data removed]",
      "text/plain": [
       "<Figure size 640x480 with 1 Axes>"
      ]
     },
     "metadata": {},
     "output_type": "display_data"
    }
   ],
   "source": [
    "MSE_train = []\n",
    "MSE_valid = []\n",
    "\n",
    "k_max = 11\n",
    "k_range = range(1, k_max)\n",
    "for k in k_range:\n",
    "    mod = createModel(k)\n",
    "    scores = cross_validate(mod, X_train, y_train,\n",
    "                            cv=10, scoring='neg_mean_squared_error', return_train_score=True)\n",
    "    MSE_train = np.append(MSE_train, -scores['train_score'].mean())\n",
    "    MSE_valid = np.append(MSE_valid, -scores['test_score'].mean())\n",
    "\n",
    "plt.plot(k_range, MSE_train, \"o-\", markersize=8, markerfacecolor='white', label='Training set')\n",
    "plt.plot(k_range, MSE_valid, \"s-\", markersize=8, markerfacecolor='white', label='Validation set')\n",
    "plt.xlabel('Number of nearest neighbours', fontsize=14)\n",
    "plt.ylabel('MSE', fontsize=14)\n",
    "plt.legend(loc='best')\n",
    "plt.show()"
   ]
  },
  {
   "cell_type": "markdown",
   "id": "9c0347ab-53ba-4e6b-9036-67eacfbc02fa",
   "metadata": {},
   "source": [
    "### Training of the model"
   ]
  },
  {
   "cell_type": "code",
   "execution_count": 12,
   "id": "0657c128-5051-4a50-9a62-c51d8bfacbf2",
   "metadata": {},
   "outputs": [
    {
     "data": {
      "text/html": [
       "<style>#sk-container-id-1 {color: black;background-color: white;}#sk-container-id-1 pre{padding: 0;}#sk-container-id-1 div.sk-toggleable {background-color: white;}#sk-container-id-1 label.sk-toggleable__label {cursor: pointer;display: block;width: 100%;margin-bottom: 0;padding: 0.3em;box-sizing: border-box;text-align: center;}#sk-container-id-1 label.sk-toggleable__label-arrow:before {content: \"▸\";float: left;margin-right: 0.25em;color: #696969;}#sk-container-id-1 label.sk-toggleable__label-arrow:hover:before {color: black;}#sk-container-id-1 div.sk-estimator:hover label.sk-toggleable__label-arrow:before {color: black;}#sk-container-id-1 div.sk-toggleable__content {max-height: 0;max-width: 0;overflow: hidden;text-align: left;background-color: #f0f8ff;}#sk-container-id-1 div.sk-toggleable__content pre {margin: 0.2em;color: black;border-radius: 0.25em;background-color: #f0f8ff;}#sk-container-id-1 input.sk-toggleable__control:checked~div.sk-toggleable__content {max-height: 200px;max-width: 100%;overflow: auto;}#sk-container-id-1 input.sk-toggleable__control:checked~label.sk-toggleable__label-arrow:before {content: \"▾\";}#sk-container-id-1 div.sk-estimator input.sk-toggleable__control:checked~label.sk-toggleable__label {background-color: #d4ebff;}#sk-container-id-1 div.sk-label input.sk-toggleable__control:checked~label.sk-toggleable__label {background-color: #d4ebff;}#sk-container-id-1 input.sk-hidden--visually {border: 0;clip: rect(1px 1px 1px 1px);clip: rect(1px, 1px, 1px, 1px);height: 1px;margin: -1px;overflow: hidden;padding: 0;position: absolute;width: 1px;}#sk-container-id-1 div.sk-estimator {font-family: monospace;background-color: #f0f8ff;border: 1px dotted black;border-radius: 0.25em;box-sizing: border-box;margin-bottom: 0.5em;}#sk-container-id-1 div.sk-estimator:hover {background-color: #d4ebff;}#sk-container-id-1 div.sk-parallel-item::after {content: \"\";width: 100%;border-bottom: 1px solid gray;flex-grow: 1;}#sk-container-id-1 div.sk-label:hover label.sk-toggleable__label {background-color: #d4ebff;}#sk-container-id-1 div.sk-serial::before {content: \"\";position: absolute;border-left: 1px solid gray;box-sizing: border-box;top: 0;bottom: 0;left: 50%;z-index: 0;}#sk-container-id-1 div.sk-serial {display: flex;flex-direction: column;align-items: center;background-color: white;padding-right: 0.2em;padding-left: 0.2em;position: relative;}#sk-container-id-1 div.sk-item {position: relative;z-index: 1;}#sk-container-id-1 div.sk-parallel {display: flex;align-items: stretch;justify-content: center;background-color: white;position: relative;}#sk-container-id-1 div.sk-item::before, #sk-container-id-1 div.sk-parallel-item::before {content: \"\";position: absolute;border-left: 1px solid gray;box-sizing: border-box;top: 0;bottom: 0;left: 50%;z-index: -1;}#sk-container-id-1 div.sk-parallel-item {display: flex;flex-direction: column;z-index: 1;position: relative;background-color: white;}#sk-container-id-1 div.sk-parallel-item:first-child::after {align-self: flex-end;width: 50%;}#sk-container-id-1 div.sk-parallel-item:last-child::after {align-self: flex-start;width: 50%;}#sk-container-id-1 div.sk-parallel-item:only-child::after {width: 0;}#sk-container-id-1 div.sk-dashed-wrapped {border: 1px dashed gray;margin: 0 0.4em 0.5em 0.4em;box-sizing: border-box;padding-bottom: 0.4em;background-color: white;}#sk-container-id-1 div.sk-label label {font-family: monospace;font-weight: bold;display: inline-block;line-height: 1.2em;}#sk-container-id-1 div.sk-label-container {text-align: center;}#sk-container-id-1 div.sk-container {/* jupyter's `normalize.less` sets `[hidden] { display: none; }` but bootstrap.min.css set `[hidden] { display: none !important; }` so we also need the `!important` here to be able to override the default hidden behavior on the sphinx rendered scikit-learn.org. See: https://github.com/scikit-learn/scikit-learn/issues/21755 */display: inline-block !important;position: relative;}#sk-container-id-1 div.sk-text-repr-fallback {display: none;}</style><div id=\"sk-container-id-1\" class=\"sk-top-container\"><div class=\"sk-text-repr-fallback\"><pre>Pipeline(steps=[(&#x27;preprocessor&#x27;,\n",
       "                 ColumnTransformer(transformers=[(&#x27;num&#x27;,\n",
       "                                                  Pipeline(steps=[(&#x27;scaler&#x27;,\n",
       "                                                                   StandardScaler())]),\n",
       "                                                  [0]),\n",
       "                                                 (&#x27;cat&#x27;,\n",
       "                                                  Pipeline(steps=[(&#x27;encoder&#x27;,\n",
       "                                                                   OneHotEncoder(categories=[array([&#x27;Agriculture&#x27;, &#x27;Industries&#x27;, &#x27;Matières résiduelles&#x27;,\n",
       "       &#x27;Résidentiel, commercial et institutionnel&#x27;, &#x27;Transports&#x27;,\n",
       "       &#x27;Électricité&#x27;], dtype=object)]))]),\n",
       "                                                  [1])])),\n",
       "                (&#x27;regression&#x27;, KNeighborsRegressor(n_neighbors=3))])</pre><b>In a Jupyter environment, please rerun this cell to show the HTML representation or trust the notebook. <br />On GitHub, the HTML representation is unable to render, please try loading this page with nbviewer.org.</b></div><div class=\"sk-container\" hidden><div class=\"sk-item sk-dashed-wrapped\"><div class=\"sk-label-container\"><div class=\"sk-label sk-toggleable\"><input class=\"sk-toggleable__control sk-hidden--visually\" id=\"sk-estimator-id-1\" type=\"checkbox\" ><label for=\"sk-estimator-id-1\" class=\"sk-toggleable__label sk-toggleable__label-arrow\">Pipeline</label><div class=\"sk-toggleable__content\"><pre>Pipeline(steps=[(&#x27;preprocessor&#x27;,\n",
       "                 ColumnTransformer(transformers=[(&#x27;num&#x27;,\n",
       "                                                  Pipeline(steps=[(&#x27;scaler&#x27;,\n",
       "                                                                   StandardScaler())]),\n",
       "                                                  [0]),\n",
       "                                                 (&#x27;cat&#x27;,\n",
       "                                                  Pipeline(steps=[(&#x27;encoder&#x27;,\n",
       "                                                                   OneHotEncoder(categories=[array([&#x27;Agriculture&#x27;, &#x27;Industries&#x27;, &#x27;Matières résiduelles&#x27;,\n",
       "       &#x27;Résidentiel, commercial et institutionnel&#x27;, &#x27;Transports&#x27;,\n",
       "       &#x27;Électricité&#x27;], dtype=object)]))]),\n",
       "                                                  [1])])),\n",
       "                (&#x27;regression&#x27;, KNeighborsRegressor(n_neighbors=3))])</pre></div></div></div><div class=\"sk-serial\"><div class=\"sk-item sk-dashed-wrapped\"><div class=\"sk-label-container\"><div class=\"sk-label sk-toggleable\"><input class=\"sk-toggleable__control sk-hidden--visually\" id=\"sk-estimator-id-2\" type=\"checkbox\" ><label for=\"sk-estimator-id-2\" class=\"sk-toggleable__label sk-toggleable__label-arrow\">preprocessor: ColumnTransformer</label><div class=\"sk-toggleable__content\"><pre>ColumnTransformer(transformers=[(&#x27;num&#x27;,\n",
       "                                 Pipeline(steps=[(&#x27;scaler&#x27;, StandardScaler())]),\n",
       "                                 [0]),\n",
       "                                (&#x27;cat&#x27;,\n",
       "                                 Pipeline(steps=[(&#x27;encoder&#x27;,\n",
       "                                                  OneHotEncoder(categories=[array([&#x27;Agriculture&#x27;, &#x27;Industries&#x27;, &#x27;Matières résiduelles&#x27;,\n",
       "       &#x27;Résidentiel, commercial et institutionnel&#x27;, &#x27;Transports&#x27;,\n",
       "       &#x27;Électricité&#x27;], dtype=object)]))]),\n",
       "                                 [1])])</pre></div></div></div><div class=\"sk-parallel\"><div class=\"sk-parallel-item\"><div class=\"sk-item\"><div class=\"sk-label-container\"><div class=\"sk-label sk-toggleable\"><input class=\"sk-toggleable__control sk-hidden--visually\" id=\"sk-estimator-id-3\" type=\"checkbox\" ><label for=\"sk-estimator-id-3\" class=\"sk-toggleable__label sk-toggleable__label-arrow\">num</label><div class=\"sk-toggleable__content\"><pre>[0]</pre></div></div></div><div class=\"sk-serial\"><div class=\"sk-item\"><div class=\"sk-serial\"><div class=\"sk-item\"><div class=\"sk-estimator sk-toggleable\"><input class=\"sk-toggleable__control sk-hidden--visually\" id=\"sk-estimator-id-4\" type=\"checkbox\" ><label for=\"sk-estimator-id-4\" class=\"sk-toggleable__label sk-toggleable__label-arrow\">StandardScaler</label><div class=\"sk-toggleable__content\"><pre>StandardScaler()</pre></div></div></div></div></div></div></div></div><div class=\"sk-parallel-item\"><div class=\"sk-item\"><div class=\"sk-label-container\"><div class=\"sk-label sk-toggleable\"><input class=\"sk-toggleable__control sk-hidden--visually\" id=\"sk-estimator-id-5\" type=\"checkbox\" ><label for=\"sk-estimator-id-5\" class=\"sk-toggleable__label sk-toggleable__label-arrow\">cat</label><div class=\"sk-toggleable__content\"><pre>[1]</pre></div></div></div><div class=\"sk-serial\"><div class=\"sk-item\"><div class=\"sk-serial\"><div class=\"sk-item\"><div class=\"sk-estimator sk-toggleable\"><input class=\"sk-toggleable__control sk-hidden--visually\" id=\"sk-estimator-id-6\" type=\"checkbox\" ><label for=\"sk-estimator-id-6\" class=\"sk-toggleable__label sk-toggleable__label-arrow\">OneHotEncoder</label><div class=\"sk-toggleable__content\"><pre>OneHotEncoder(categories=[array([&#x27;Agriculture&#x27;, &#x27;Industries&#x27;, &#x27;Matières résiduelles&#x27;,\n",
       "       &#x27;Résidentiel, commercial et institutionnel&#x27;, &#x27;Transports&#x27;,\n",
       "       &#x27;Électricité&#x27;], dtype=object)])</pre></div></div></div></div></div></div></div></div></div></div><div class=\"sk-item\"><div class=\"sk-estimator sk-toggleable\"><input class=\"sk-toggleable__control sk-hidden--visually\" id=\"sk-estimator-id-7\" type=\"checkbox\" ><label for=\"sk-estimator-id-7\" class=\"sk-toggleable__label sk-toggleable__label-arrow\">KNeighborsRegressor</label><div class=\"sk-toggleable__content\"><pre>KNeighborsRegressor(n_neighbors=3)</pre></div></div></div></div></div></div></div>"
      ],
      "text/plain": [
       "Pipeline(steps=[('preprocessor',\n",
       "                 ColumnTransformer(transformers=[('num',\n",
       "                                                  Pipeline(steps=[('scaler',\n",
       "                                                                   StandardScaler())]),\n",
       "                                                  [0]),\n",
       "                                                 ('cat',\n",
       "                                                  Pipeline(steps=[('encoder',\n",
       "                                                                   OneHotEncoder(categories=[array(['Agriculture', 'Industries', 'Matières résiduelles',\n",
       "       'Résidentiel, commercial et institutionnel', 'Transports',\n",
       "       'Électricité'], dtype=object)]))]),\n",
       "                                                  [1])])),\n",
       "                ('regression', KNeighborsRegressor(n_neighbors=3))])"
      ]
     },
     "execution_count": 12,
     "metadata": {},
     "output_type": "execute_result"
    }
   ],
   "source": [
    "mod = createModel(3)\n",
    "mod.fit(X_train, y_train)"
   ]
  },
  {
   "cell_type": "markdown",
   "id": "e37fbede-26e7-4533-b5e1-937c613a437e",
   "metadata": {},
   "source": [
    "### Evaluation on the test set"
   ]
  },
  {
   "cell_type": "code",
   "execution_count": 13,
   "id": "830925d6-697f-404a-8a35-a9105523121d",
   "metadata": {},
   "outputs": [
    {
     "data": {
      "image/png": "[encoded data removed]",
      "text/plain": [
       "<Figure size 640x480 with 1 Axes>"
      ]
     },
     "metadata": {},
     "output_type": "display_data"
    }
   ],
   "source": [
    "y_pred = mod.predict(X_test)\n",
    "plt.plot(y_test, y_test, \"-\")\n",
    "plt.plot(y_test, y_pred, \".\", markersize=7, markerfacecolor='white')\n",
    "plt.xlabel('Actual green house gas emissions (Mega Tons of CO2eq)')\n",
    "plt.ylabel('Predicted green house gas emissions (Mega Tons of CO2eq)')\n",
    "plt.show()"
   ]
  },
  {
   "cell_type": "code",
   "execution_count": 14,
   "id": "d30b9b2f-83ca-403c-a99a-f4d94598629f",
   "metadata": {},
   "outputs": [
    {
     "data": {
      "image/png": "[encoded data removed]",
      "text/plain": [
       "<Figure size 640x480 with 1 Axes>"
      ]
     },
     "metadata": {},
     "output_type": "display_data"
    }
   ],
   "source": [
    "y_pred = mod.predict(X_test)\n",
    "RMSE = mean_squared_error(y_test, y_pred, squared=False)\n",
    "plt.plot(y_pred-y_test, \".\", markersize=7, markerfacecolor='white')\n",
    "plt.plot([0, len(y_pred)], [RMSE, RMSE], '--', color='#ff7f0e')\n",
    "plt.plot([0, len(y_pred)], [-RMSE, -RMSE], '--', color='#ff7f0e')\n",
    "plt.xlabel('Sample')\n",
    "plt.ylabel('Predicted green house gas emissions (Mega Tons of CO2eq)')\n",
    "plt.show()"
   ]
  },
  {
   "cell_type": "markdown",
   "id": "6e231aba-7fba-4664-a48f-5d4b6c2bed63",
   "metadata": {},
   "source": [
    "### Evaluation on the various sectors of full data set"
   ]
  },
  {
   "cell_type": "markdown",
   "id": "7887d8d9-70f3-488a-872e-a2ad76e212ee",
   "metadata": {},
   "source": [
    "Note: this evaluation isn't entirely valid as it combines data from the training and test set. It can however give a feeling of the validity of the model over the period the data set covers."
   ]
  },
  {
   "cell_type": "code",
   "execution_count": 15,
   "id": "cc66b758-5a58-4747-8f6c-6cde2c4f8ea8",
   "metadata": {},
   "outputs": [
    {
     "data": {
      "application/vnd.jupyter.widget-view+json": {
       "model_id": "c3afc0ee9a68437fb362af0a5ac17965",
       "version_major": 2,
       "version_minor": 0
      },
      "text/plain": [
       "interactive(children=(Dropdown(description='Sector', options=('Agriculture', 'Industries', 'Matières résiduell…"
      ]
     },
     "metadata": {},
     "output_type": "display_data"
    }
   ],
   "source": [
    "@interact(sector=widgets.Dropdown(options=df.Secteur.unique(),\n",
    "                                description='Sector'))\n",
    "def total_emissions_sector(sector):\n",
    "    \"\"\"\n",
    "    Total green house gas emissions for a sector over the years\n",
    "    \"\"\"\n",
    "    X_sect = np.c_[df[df.Secteur==sector].Annee, df.Secteur[df.Secteur==sector]]\n",
    "    y_sect = np.c_[df[df.Secteur==sector].EmissionsTotales]\n",
    "    y_pred = mod.predict(X_sect)\n",
    "    plt.plot(df[df.Secteur==sector].Annee, y_pred/1E6)\n",
    "    plt.plot(df[df.Secteur==sector].Annee, y_sect/1E6, 'o', markersize=7, markerfacecolor='white')\n",
    "    plt.xlabel('Year')\n",
    "    plt.ylabel(\"Green House Gas Emission (Equ. Mega Tons of CO$_2$)\")\n",
    "    plt.xticks(rotation=45,  ha='right')\n",
    "    plt.show()"
   ]
  },
  {
   "cell_type": "markdown",
   "id": "d30787da-6f14-4448-9216-50c20ff6ca9f",
   "metadata": {},
   "source": [
    "## Critical thinking"
   ]
  },
  {
   "cell_type": "markdown",
   "id": "1cab4066-020f-47e9-943e-795b96ead084",
   "metadata": {},
   "source": [
    "1. Would the KNN model be a good model to predict future green house gas emissions?<br>\n",
    "Explain your answer<br>\n",
    "*Hint: You may wish to try to forecast the next ten years. What do you observe and why do you observe this?*\n",
    "\n",
    "2. Would a linear regression model be a good model to try for this data set?<br>\n",
    "Explain your answer<br>\n",
    "*Hint: You may wish to try to build such a linear model. What do you observe and why do you observe this?*"
   ]
  },
  {
   "cell_type": "code",
   "execution_count": null,
   "id": "2a5589e7-4e6d-4225-9205-6a7276fb11a8",
   "metadata": {},
   "outputs": [],
   "source": []
  }
 ],
 "metadata": {
  "kernelspec": {
   "display_name": "SciKit Learn",
   "language": "python",
   "name": "scikit"
  },
  "language_info": {
   "codemirror_mode": {
    "name": "ipython",
    "version": 3
   },
   "file_extension": ".py",
   "mimetype": "text/x-python",
   "name": "python",
   "nbconvert_exporter": "python",
   "pygments_lexer": "ipython3",
   "version": "3.10.8"
  }
 },
 "nbformat": 4,
 "nbformat_minor": 5
}
