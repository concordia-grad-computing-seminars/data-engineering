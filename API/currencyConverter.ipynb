{
 "cells": [
  {
   "cell_type": "markdown",
   "id": "d977b42a-518d-4a4e-a397-227ad76d6474",
   "metadata": {},
   "source": [
    "# Interactive currency converter"
   ]
  },
  {
   "cell_type": "code",
   "execution_count": 1,
   "id": "98c343b4-07b1-45d7-99e1-ec820e0812a3",
   "metadata": {},
   "outputs": [],
   "source": [
    "import ipywidgets as widgets\n",
    "from ipywidgets import interact\n",
    "import requests"
   ]
  },
  {
   "cell_type": "markdown",
   "id": "c48e853a-7713-4ba3-8b43-8757c7792144",
   "metadata": {},
   "source": [
    "We demonstrate here how to use ipython widgets\n",
    "\n",
    "More reading: https://ipywidgets.readthedocs.io/en/7.x/examples/Widget%20Basics.html"
   ]
  },
  {
   "cell_type": "markdown",
   "id": "45beb574-4238-4646-998e-d9ace4362950",
   "metadata": {},
   "source": [
    "## Step 1 - Create a function"
   ]
  },
  {
   "cell_type": "code",
   "execution_count": 2,
   "id": "fb20db6c-1cc1-49ee-bced-d1e905ece22d",
   "metadata": {},
   "outputs": [],
   "source": [
    "def get_rate(curency_code):\n",
    "    \"\"\"\n",
    "    Returns the exchange rate of a currency compared to CAD\n",
    "    \"\"\"\n",
    "    url = \"https://open.er-api.com/v6/latest/CAD\"\n",
    "    req = requests.get(url)\n",
    "    return req.json()['rates'][curency_code]"
   ]
  },
  {
   "cell_type": "markdown",
   "id": "6a9dae7c-19ce-4a75-8c20-f9bea780041f",
   "metadata": {},
   "source": [
    "Let's test it"
   ]
  },
  {
   "cell_type": "code",
   "execution_count": 3,
   "id": "a4457168-8a1e-4f9a-b66b-91db65366028",
   "metadata": {},
   "outputs": [
    {
     "data": {
      "text/plain": [
       "0.731193"
      ]
     },
     "execution_count": 3,
     "metadata": {},
     "output_type": "execute_result"
    }
   ],
   "source": [
    "get_rate('USD')"
   ]
  },
  {
   "cell_type": "markdown",
   "id": "25b68942-b2f9-467d-b131-fbe72b1b800f",
   "metadata": {},
   "source": [
    "## Step 2 - Use widgets"
   ]
  },
  {
   "cell_type": "code",
   "execution_count": 4,
   "id": "d3fb2fb5-cda1-44dc-9741-c9477f1a9075",
   "metadata": {},
   "outputs": [
    {
     "data": {
      "application/vnd.jupyter.widget-view+json": {
       "model_id": "57e8f9373abe41b0b8f8a4edb1c3894f",
       "version_major": 2,
       "version_minor": 0
      },
      "text/plain": [
       "interactive(children=(Text(value='CHF', description='curency_code'), Output()), _dom_classes=('widget-interact…"
      ]
     },
     "metadata": {},
     "output_type": "display_data"
    },
    {
     "data": {
      "text/plain": [
       "<function __main__.get_rate(curency_code)>"
      ]
     },
     "execution_count": 4,
     "metadata": {},
     "output_type": "execute_result"
    }
   ],
   "source": [
    "interact(get_rate, curency_code='CHF')"
   ]
  },
  {
   "cell_type": "markdown",
   "id": "52bd52ba-4a8b-4128-8b7e-647eccadebfd",
   "metadata": {},
   "source": [
    "## Step 3 - With a dropdown menu"
   ]
  },
  {
   "cell_type": "code",
   "execution_count": 5,
   "id": "a79252f5-48b5-4c4e-98bd-f9e2b546f2c5",
   "metadata": {},
   "outputs": [],
   "source": [
    "url = \"https://open.er-api.com/v6/latest/CAD\"\n",
    "req = requests.get(url)\n",
    "data = req.json()"
   ]
  },
  {
   "cell_type": "markdown",
   "id": "d67c86f3-39b8-4f7c-917c-85b32835b980",
   "metadata": {},
   "source": [
    "The `key()` method of python dictionnaries can be used to extact all currency codes:"
   ]
  },
  {
   "cell_type": "code",
   "execution_count": 6,
   "id": "b4b90d11-ed5e-4ecb-ad2f-21ae2383f6bb",
   "metadata": {},
   "outputs": [
    {
     "data": {
      "text/plain": [
       "dict_keys(['CAD', 'AED', 'AFN', 'ALL', 'AMD', 'ANG', 'AOA', 'ARS', 'AUD', 'AWG', 'AZN', 'BAM', 'BBD', 'BDT', 'BGN', 'BHD', 'BIF', 'BMD', 'BND', 'BOB', 'BRL', 'BSD', 'BTN', 'BWP', 'BYN', 'BZD', 'CDF', 'CHF', 'CLP', 'CNY', 'COP', 'CRC', 'CUP', 'CVE', 'CZK', 'DJF', 'DKK', 'DOP', 'DZD', 'EGP', 'ERN', 'ETB', 'EUR', 'FJD', 'FKP', 'FOK', 'GBP', 'GEL', 'GGP', 'GHS', 'GIP', 'GMD', 'GNF', 'GTQ', 'GYD', 'HKD', 'HNL', 'HRK', 'HTG', 'HUF', 'IDR', 'ILS', 'IMP', 'INR', 'IQD', 'IRR', 'ISK', 'JEP', 'JMD', 'JOD', 'JPY', 'KES', 'KGS', 'KHR', 'KID', 'KMF', 'KRW', 'KWD', 'KYD', 'KZT', 'LAK', 'LBP', 'LKR', 'LRD', 'LSL', 'LYD', 'MAD', 'MDL', 'MGA', 'MKD', 'MMK', 'MNT', 'MOP', 'MRU', 'MUR', 'MVR', 'MWK', 'MXN', 'MYR', 'MZN', 'NAD', 'NGN', 'NIO', 'NOK', 'NPR', 'NZD', 'OMR', 'PAB', 'PEN', 'PGK', 'PHP', 'PKR', 'PLN', 'PYG', 'QAR', 'RON', 'RSD', 'RUB', 'RWF', 'SAR', 'SBD', 'SCR', 'SDG', 'SEK', 'SGD', 'SHP', 'SLE', 'SLL', 'SOS', 'SRD', 'SSP', 'STN', 'SYP', 'SZL', 'THB', 'TJS', 'TMT', 'TND', 'TOP', 'TRY', 'TTD', 'TVD', 'TWD', 'TZS', 'UAH', 'UGX', 'USD', 'UYU', 'UZS', 'VES', 'VND', 'VUV', 'WST', 'XAF', 'XCD', 'XDR', 'XOF', 'XPF', 'YER', 'ZAR', 'ZMW', 'ZWL'])"
      ]
     },
     "execution_count": 6,
     "metadata": {},
     "output_type": "execute_result"
    }
   ],
   "source": [
    "data['rates'].keys()"
   ]
  },
  {
   "cell_type": "code",
   "execution_count": 7,
   "id": "265907af-6973-4c44-8502-b04eb69b535e",
   "metadata": {},
   "outputs": [
    {
     "data": {
      "application/vnd.jupyter.widget-view+json": {
       "model_id": "446ada3b8a144072950bb61e466367c4",
       "version_major": 2,
       "version_minor": 0
      },
      "text/plain": [
       "interactive(children=(Dropdown(description='Currency', options=('CAD', 'AED', 'AFN', 'ALL', 'AMD', 'ANG', 'AOA…"
      ]
     },
     "metadata": {},
     "output_type": "display_data"
    },
    {
     "data": {
      "text/plain": [
       "<function __main__.get_rate(curency_code)>"
      ]
     },
     "execution_count": 7,
     "metadata": {},
     "output_type": "execute_result"
    }
   ],
   "source": [
    "interact(get_rate, curency_code=widgets.Dropdown(options=data['rates'].keys(),\n",
    "                                                 description='Currency'))"
   ]
  },
  {
   "cell_type": "markdown",
   "id": "9c3c3c72-485b-41ef-b4cf-02465565b864",
   "metadata": {},
   "source": [
    "## Step 4 - Putting all together by using a decorator"
   ]
  },
  {
   "cell_type": "code",
   "execution_count": 8,
   "id": "5a136fc7-6754-490b-a8fe-ec64aa0463bb",
   "metadata": {},
   "outputs": [
    {
     "data": {
      "application/vnd.jupyter.widget-view+json": {
       "model_id": "18586275be474a6f8b3c8284d02db027",
       "version_major": 2,
       "version_minor": 0
      },
      "text/plain": [
       "interactive(children=(Dropdown(description='Currency', options=('CAD', 'AED', 'AFN', 'ALL', 'AMD', 'ANG', 'AOA…"
      ]
     },
     "metadata": {},
     "output_type": "display_data"
    }
   ],
   "source": [
    "@interact(curency_code=widgets.Dropdown(options=data['rates'].keys(),\n",
    "                                        description='Currency'))\n",
    "def get_rate(curency_code):\n",
    "    \"\"\"\n",
    "    Returns the exchange rate of a currency compared to CAD\n",
    "    \"\"\"\n",
    "    url = \"https://open.er-api.com/v6/latest/CAD\"\n",
    "    req = requests.get(url)\n",
    "    return req.json()['rates'][curency_code]"
   ]
  },
  {
   "cell_type": "code",
   "execution_count": null,
   "id": "7a4ee233-a660-46f9-9d83-b93eac622f13",
   "metadata": {},
   "outputs": [],
   "source": []
  }
 ],
 "metadata": {
  "kernelspec": {
   "display_name": "Python 3 (ipykernel)",
   "language": "python",
   "name": "python3"
  },
  "language_info": {
   "codemirror_mode": {
    "name": "ipython",
    "version": 3
   },
   "file_extension": ".py",
   "mimetype": "text/x-python",
   "name": "python",
   "nbconvert_exporter": "python",
   "pygments_lexer": "ipython3",
   "version": "3.9.12"
  }
 },
 "nbformat": 4,
 "nbformat_minor": 5
}
