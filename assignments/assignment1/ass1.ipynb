{
 "cells": [
  {
   "cell_type": "markdown",
   "id": "6d3c0e04-42c1-45e7-96b5-8a40a8e8d781",
   "metadata": {},
   "source": [
    "# Exercices for the Montreal Metro Incidents Dataset"
   ]
  },
  {
   "cell_type": "markdown",
   "id": "7934a66f-92e0-4bf2-b227-a4bbf48b1069",
   "metadata": {},
   "source": [
    "## Instructions"
   ]
  },
  {
   "cell_type": "markdown",
   "id": "fda47b0c-c330-4617-9fa6-36f9e7eaac3b",
   "metadata": {},
   "source": [
    "- Complete as needed this notebook in order to be able to answer the various questions.\n",
    "- Submit on moodle your notebook as well as the PDF copy of your notebook (with answers computed)\n",
    "- Please submit a clean notebook (i.e. only the code needed to obtain the answers and not including all debugging / trials you did)"
   ]
  },
  {
   "cell_type": "markdown",
   "id": "a70bafc4-a03e-45b9-8a78-7ab8edc0f5d8",
   "metadata": {},
   "source": [
    "## Libraries"
   ]
  },
  {
   "cell_type": "code",
   "execution_count": null,
   "id": "a6fe67b1-00f0-4683-974c-eed3b2e0b6ed",
   "metadata": {},
   "outputs": [],
   "source": [
    "import pandas as pd\n",
    "import numpy as np\n",
    "import matplotlib.pyplot as plt\n",
    "\n",
    "import ipywidgets as widgets\n",
    "from ipywidgets import interact"
   ]
  },
  {
   "cell_type": "markdown",
   "id": "b48e740c-8935-4bea-a3bb-eff23bff8768",
   "metadata": {},
   "source": [
    "## Data"
   ]
  },
  {
   "cell_type": "code",
   "execution_count": null,
   "id": "d5dd8ab4-4e39-4ff4-a515-f8ba59fac206",
   "metadata": {},
   "outputs": [],
   "source": [
    "df = pd.read_csv(\"Metro.csv\")"
   ]
  },
  {
   "cell_type": "markdown",
   "id": "13aa2bf7-624d-4ed9-9ff8-bfcee447726e",
   "metadata": {},
   "source": [
    "### Data cleaning"
   ]
  },
  {
   "cell_type": "code",
   "execution_count": null,
   "id": "70c4b0d7-cfcc-4d76-a547-649ad2fd7fab",
   "metadata": {},
   "outputs": [],
   "source": [
    "# Insert below operations that are required to clean the dataset\n",
    "\n",
    "# Examples (to be completed as needed)\n",
    "\n",
    "# Remove columns that will not be used\n",
    "df = df.drop('Numéro de tournée', axis=1)\n",
    "df = df.drop(\"Numero d'incident\", axis=1)\n",
    "df = df.drop(\"Incident en minutes\", axis=1)\n",
    "df = df.drop(\"Évacuation\", axis=1)\n",
    "df = df.drop(\"Urgence métro\", axis=1)\n",
    "df = df.drop(\"Année civile/mois\", axis=1)\n",
    "df = df.drop(\"Jour calendaire\", axis=1)\n",
    "\n",
    "# Remove incidents which are of type metro station (to keep only incidents which affected the metro service)\n",
    "df = df.drop(df[df[\"Type d'incident\"] == 'S'].index)"
   ]
  },
  {
   "cell_type": "code",
   "execution_count": null,
   "id": "f31ecd5f-4868-4a54-b85f-e8053ddf4b52",
   "metadata": {},
   "outputs": [],
   "source": [
    "# Insert below operations that you want to perform to transform data \n",
    "# A transformation that will be needed is to create a dataFrame which contains incidents labeled uniquely according a single line (refer to what we did in the lecture)\n"
   ]
  },
  {
   "cell_type": "markdown",
   "id": "f557aae4-97bb-4c4d-8bba-847f2f709f58",
   "metadata": {},
   "source": [
    "## Questions"
   ]
  },
  {
   "cell_type": "markdown",
   "id": "1e497adb-8366-475f-9365-81c3baaf8eb9",
   "metadata": {},
   "source": [
    "### 1. Which are the main primary and second causes for interruptions?"
   ]
  },
  {
   "cell_type": "markdown",
   "id": "1745768c-4625-4761-ba1b-2f13124fab54",
   "metadata": {},
   "source": [
    "In this question we want to know what are the major primary and secondary causes for interruptions in the metro service.<br>\n",
    "The primary causes can be found in the field `Cause primaire` and the secondary causes in the field `Cause secondaire`.\n",
    "\n",
    "- Use the [`groupby()`](https://pandas.pydata.org/pandas-docs/stable/reference/api/pandas.DataFrame.groupby.html) method on the `Cause primaire`, respectively `Cause secondaire` to aggregate the data according the causes.\n",
    "- Apply the [`count()`](https://pandas.pydata.org/pandas-docs/stable/reference/api/pandas.DataFrame.count.html) method to count them\n",
    "- To find the cause responsible for most incidents the he dataframe method [`idxmax()`](https://pandas.pydata.org/docs/reference/api/pandas.DataFrame.idxmax.html) can be used.\n",
    "- Alternatively you can sort the values with the method [`sort_values()`](https://pandas.pydata.org/docs/reference/api/pandas.DataFrame.sort_values.html)\n",
    "- To create a pie chart use the [`pie`](https://matplotlib.org/stable/api/_as_gen/matplotlib.pyplot.pie.html#matplotlib.pyplot.pie) method form [`MatPlotLib`](https://matplotlib.org/stable/index.html)\n",
    "- Percentage values can be added to the pie chart using the `autopct` option (for example `autopct='%1.0f%%'`)\n",
    "\n",
    "Notes:\n",
    "1. You may want to use Google translate to understand what is the actual highest primary/secondary cause in case you dont speak French.\n",
    "2. The cryptic code `MR-73` refers to the old train constellation of the STM and the code `MPM10` is the new train constellation"
   ]
  },
  {
   "cell_type": "code",
   "execution_count": null,
   "id": "313d7efa-faf4-449d-9eea-a4c0b1ad864e",
   "metadata": {},
   "outputs": [],
   "source": [
    "# What is the most frequent primary cause for incidents?\n"
   ]
  },
  {
   "cell_type": "code",
   "execution_count": null,
   "id": "2c69fd89-2d32-403f-8b13-4e01ebea25c2",
   "metadata": {},
   "outputs": [],
   "source": [
    "# What is the most frequent secondary cause for incidents?\n"
   ]
  },
  {
   "cell_type": "code",
   "execution_count": null,
   "id": "e212088d-3730-4d94-a317-03e14d335816",
   "metadata": {},
   "outputs": [],
   "source": [
    "# Create a pie chart for the primary causes for the year 2019\n"
   ]
  },
  {
   "cell_type": "code",
   "execution_count": null,
   "id": "1595d77d-8156-4424-8343-ff90de3a4354",
   "metadata": {},
   "outputs": [],
   "source": [
    "# Create a pie chart for the primary causes for the year 2021\n"
   ]
  },
  {
   "cell_type": "code",
   "execution_count": null,
   "id": "27689976-c653-42be-96d1-8de00b61557e",
   "metadata": {},
   "outputs": [],
   "source": [
    "# Bonus question (optional)\n",
    "# Create bar-plot charts which shows in decreasing order the primary, respectively secondary, causes for service interruptions\n",
    "\n",
    "@interact(cause=widgets.Dropdown(options=['Cause primaire', 'Cause secondaire'],\n",
    "                                description='Cause'))\n",
    "def causes_for_interruptions(cause):\n",
    "    \"\"\"\n",
    "    Number of incidents due to various causes\n",
    "    \"\"\""
   ]
  },
  {
   "cell_type": "markdown",
   "id": "eec11b8a-495c-466e-a9b5-ab6a9e7984e1",
   "metadata": {},
   "source": [
    "### 2. Which metro stations are the most often a source of incidents ?"
   ]
  },
  {
   "cell_type": "markdown",
   "id": "1b491236-4dd1-4b04-a037-ef03b1a007f4",
   "metadata": {},
   "source": [
    "The field `Code de lieu` contains the name of the metro station that was the source of the incident.<br>\n",
    "You may find some \"strange\" metro station names (e.g. `B124`). For the purpose of this exercise we consider these entries as errors and they should ideally be removed during the cleaning phase. (You may wish to remove at least some of them to show the idea).\n",
    "\n",
    "Conduct your analysis per metro line and year (i.e. report for each metro line and year, which metro station was the most often the source of an incident)\n",
    "\n",
    "How does compare the metro station 'Guy-Concordia' to this ?"
   ]
  },
  {
   "cell_type": "markdown",
   "id": "b5e4117b-1b4b-4719-8d6d-a37ce78a012d",
   "metadata": {},
   "source": [
    "Possible method:\n",
    "- Use the [`groupby()`](https://pandas.pydata.org/pandas-docs/stable/reference/api/pandas.DataFrame.groupby.html) method to list for each metro line the number of incidents per metro stations\n",
    "- For each of the lines, extract the station with the highest number of incidents The dataframe method [`idxmax()`](https://pandas.pydata.org/docs/reference/api/pandas.DataFrame.idxmax.html) can be used for this task.\n",
    "\n",
    "Observe how the metro stations are reported. You will see that some contain more than one station (as more than one station where the source of the incident).\n",
    "For example you will find \"Atwater/Guy-Concordia\" which shows that here two stations were involved.\n",
    "\n",
    "For advanced programmers (optional): try to take this into account by creating two incidents : one for `Atwater` and one for `Guy-Concordia`.<br>\n",
    "To automate this, you can search for entries containing the character `/` and then split the string into two strings (left and right from '/')<br>\n",
    "You can however ignore this effect and do the exercise assuming that \"Atwater/Guy-Concordia\" is another \"valid\" metro station without loosing any mark."
   ]
  },
  {
   "cell_type": "code",
   "execution_count": null,
   "id": "4fe46ae3-451c-42da-b2a9-276722a7d3f6",
   "metadata": {},
   "outputs": [],
   "source": [
    "# Yellow metro line\n"
   ]
  },
  {
   "cell_type": "code",
   "execution_count": null,
   "id": "37d8a9ba-4391-47fb-ab88-e2d59e0713c6",
   "metadata": {},
   "outputs": [],
   "source": [
    "# Blue metro line\n"
   ]
  },
  {
   "cell_type": "code",
   "execution_count": null,
   "id": "b96f635f-f136-49cc-9cc6-2ee6cd5d1c20",
   "metadata": {},
   "outputs": [],
   "source": [
    "# Orange metro line\n"
   ]
  },
  {
   "cell_type": "code",
   "execution_count": null,
   "id": "e42b09e9-f750-495b-91ef-4686d3dc2ed5",
   "metadata": {},
   "outputs": [],
   "source": [
    "# Green metro line\n"
   ]
  },
  {
   "cell_type": "markdown",
   "id": "fad655d8-b309-4f27-ab9f-7d4e749fb129",
   "metadata": {},
   "source": [
    "### 3. Events due to the use of emergency break by users"
   ]
  },
  {
   "cell_type": "markdown",
   "id": "c10c20d1-b957-4b05-b8f1-214b346ece2f",
   "metadata": {},
   "source": [
    "The field `KFS` reports if the interruption was due to the usage of an emergency break (`KFS == 1`).\n",
    "\n",
    "Provide two graphs to analyze this situation:\n",
    "- A first graph for the green line: report for a given year, the total number of incidents in each month due to the usage of the emergency break\n",
    "- A second graph: extend the previous graph to report not only the green line, but all four lines (i.e. a graph for a given year which shows, for each month, the total number of incidents due to to emergency break usage for each metro line)"
   ]
  },
  {
   "cell_type": "code",
   "execution_count": null,
   "id": "124a8336-20cc-45ba-aca4-e70b45b97ab8",
   "metadata": {},
   "outputs": [],
   "source": [
    "# Graph 1\n",
    "# Graph with total number of of incidents due to emergency break usage per month for a given year on the green line\n",
    "# The green line is 'Ligne verte'\n",
    "# Use the following function template as start point\n",
    "@interact(year=widgets.Dropdown(options=df[\"Année civile\"].unique(),\n",
    "                                description='Year'))\n",
    "def number_monthly_KFS_green_line_year(year):\n",
    "    \"\"\"\n",
    "    Number of incidents due to emergency break usage on each month for a given year of the ornage line\n",
    "    \"\"\""
   ]
  },
  {
   "cell_type": "code",
   "execution_count": null,
   "id": "c53cc2e5-57b5-4df5-b9e0-2a226b16830c",
   "metadata": {},
   "outputs": [],
   "source": [
    "# Graph 2\n",
    "# Graph with total number of of incidents due to emergency break usage per month and metro line for a given year\n",
    "# Each metro line should be represented by its color on the graph\n",
    "# Use the following function template as start point\n",
    "@interact(year=widgets.Dropdown(options=df[\"Année civile\"].unique(),\n",
    "                                description='Year'))\n",
    "def number_monthly_KFS_year(year):\n",
    "    \"\"\"\n",
    "    Number of incidents due to emergency break usage on each month and metro line for a given year\n",
    "    \"\"\"\n",
    "    # Add here your code"
   ]
  },
  {
   "cell_type": "markdown",
   "id": "687a26bb-459e-42c3-a718-39eac87a026a",
   "metadata": {},
   "source": [
    "### 4. How many incidents are due to vandalism ?"
   ]
  },
  {
   "cell_type": "markdown",
   "id": "0d72c971-d1f9-4ec6-b089-889b27b37683",
   "metadata": {},
   "source": [
    "These events can be found in the field `'Cause secondaire'`.<br>\n",
    "They are labeled as `'Méfait volontaire'` and `'Nuisance volontaire'`\n",
    "\n",
    "Make your analysis based on \n",
    "- metro line\n",
    "- years\n",
    "- total and average number of incidents\n",
    "\n",
    "First create the two requested graphs below and then add one more graph you feel that would make sense "
   ]
  },
  {
   "cell_type": "code",
   "execution_count": null,
   "id": "f3f73dc4-74a8-4c5d-8ec6-63f8cf4ccbc0",
   "metadata": {},
   "outputs": [],
   "source": [
    "# Graph with total number of of incidents due to vandalism per year and metro line\n",
    "# Each metro line should be represented by its color on the graph\n",
    "# Use the following function template as start point\n",
    "@interact(year=widgets.Dropdown(options=df[\"Année civile\"].unique(),\n",
    "                                description='Year'))\n",
    "def total_number_of_vandalism_incidents_year(year):\n",
    "    \"\"\"\n",
    "    Total number of vandalism incidents for each metro line for a given year\n",
    "    \"\"\"\n",
    "    # Add here your code"
   ]
  },
  {
   "cell_type": "code",
   "execution_count": null,
   "id": "4e889d64-243a-4672-9ed0-82a7ab308b29",
   "metadata": {},
   "outputs": [],
   "source": [
    "# Graph with average number of of incidents due to vandalism per year and metro line for each day of the week\n",
    "# Each metro line should be represented by its color on the graph\n",
    "# Use the following function template as start point\n",
    "@interact(year=widgets.Dropdown(options=df[\"Année civile\"].unique(),\n",
    "                                description='Year'))\n",
    "def average_number_of_vandalism_incidents_year(year):\n",
    "    \"\"\"\n",
    "    Average number of vandalism incidents at each week day for each metro line for a given year\n",
    "    \"\"\"\n",
    "    # Add here your code"
   ]
  },
  {
   "cell_type": "code",
   "execution_count": null,
   "id": "9935e3a0-bf8f-4693-982a-7fd93ea56384",
   "metadata": {},
   "outputs": [],
   "source": [
    "# Your own graph of data representation that could be useful to udnerstand vandalism events in Montreal metro\n"
   ]
  },
  {
   "cell_type": "code",
   "execution_count": null,
   "id": "84af6283-f220-4fb7-a55f-dae24ef9ba76",
   "metadata": {},
   "outputs": [],
   "source": []
  }
 ],
 "metadata": {
  "kernelspec": {
   "display_name": "SciKit Learn",
   "language": "python",
   "name": "scikit"
  },
  "language_info": {
   "codemirror_mode": {
    "name": "ipython",
    "version": 3
   },
   "file_extension": ".py",
   "mimetype": "text/x-python",
   "name": "python",
   "nbconvert_exporter": "python",
   "pygments_lexer": "ipython3",
   "version": "3.10.8"
  }
 },
 "nbformat": 4,
 "nbformat_minor": 5
}
