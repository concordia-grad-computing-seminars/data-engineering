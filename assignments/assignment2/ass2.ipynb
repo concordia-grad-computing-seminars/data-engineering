{
 "cells": [
  {
   "cell_type": "markdown",
   "id": "41bb6d1a-e532-46ee-80ca-c74eeddcd5ac",
   "metadata": {},
   "source": [
    "# CO$_2$ emissions of new cars in Canada in 2023"
   ]
  },
  {
   "cell_type": "markdown",
   "id": "e9a24b60-cd21-42b1-a504-c9b16099da8f",
   "metadata": {},
   "source": [
    "<img src=\"https://media.greenmatters.com/brand-img/NTfo8bR6j/2160x1131/what-emissions-do-cars-produce2-1604596690492.jpg\" width=1000/>"
   ]
  },
  {
   "cell_type": "markdown",
   "id": "7f7495af-0c38-414d-a094-6d7372df2e32",
   "metadata": {},
   "source": [
    "<a target=\"_blank\" href=\"https://colab.research.google.com/github/concordia-grad-computing-seminars/data-engineering/blob/main/assignments/assignment2/ass2.ipynb\">\n",
    "  <img src=\"https://colab.research.google.com/assets/colab-badge.svg\" alt=\"Open In Colab\"/>\n",
    "</a>"
   ]
  },
  {
   "cell_type": "markdown",
   "id": "ecac8573-2907-4a13-87a8-3ad28f8d3a0e",
   "metadata": {},
   "source": [
    "## Instructions\n",
    "- Complete as needed this notebook in order to be able to answer the various questions.\n",
    "- Submit on moodle your notebook as well as the PDF or HTML copy of your notebook (with answers computed)\n",
    "- Please submit a clean notebook (i.e. only the code needed to obtain the answers and not including all debugging / trials you did)"
   ]
  },
  {
   "cell_type": "markdown",
   "id": "633b561d-863a-4741-9b8e-b9754f83a92b",
   "metadata": {},
   "source": [
    "## Libraries"
   ]
  },
  {
   "cell_type": "code",
   "execution_count": 1,
   "id": "5eb365d2-dfc6-4515-862e-bbba2095829e",
   "metadata": {},
   "outputs": [],
   "source": [
    "import pandas as pd\n",
    "import numpy as np\n",
    "\n",
    "import matplotlib.pyplot as plt\n",
    "\n",
    "from sklearn.model_selection import train_test_split\n",
    "from sklearn.preprocessing import OneHotEncoder\n",
    "from sklearn.model_selection import cross_validate\n",
    "from sklearn.pipeline import make_pipeline\n",
    "from sklearn.pipeline import Pipeline\n",
    "from sklearn.preprocessing import StandardScaler\n",
    "from sklearn.preprocessing import PolynomialFeatures\n",
    "from sklearn.compose import ColumnTransformer\n",
    "from sklearn.linear_model import LinearRegression\n",
    "from sklearn.neighbors import KNeighborsRegressor\n",
    "from sklearn.metrics import mean_squared_error"
   ]
  },
  {
   "cell_type": "markdown",
   "id": "aef8ca3f-f7c8-4e92-a4c5-9d266aeb2efc",
   "metadata": {},
   "source": [
    "## Data"
   ]
  },
  {
   "cell_type": "markdown",
   "id": "f37ed998-42cc-4e74-9916-c8a17b606151",
   "metadata": {},
   "source": [
    "Data source: https://open.canada.ca/data/en/dataset/98f1a129-f628-4ce4-b24d-6f16bf24dd64<br>\n",
    "License: https://open.canada.ca/en/open-government-licence-canada\n",
    "\n",
    "Dataset: 2023 Fuel Consumption Ratings \n",
    "```\n",
    "Model\n",
    "=====\n",
    "4WD/4X4 = Four-wheel drive\n",
    "AWD = All-wheel drive\n",
    "FFV = Flexible-fuel vehicle\n",
    "SWB = Short wheelbase\n",
    "LWB = Long wheelbase\n",
    "EWB = Extended wheelbase\n",
    "\n",
    "Engine size\n",
    "===========\n",
    "Engine size is in liters\n",
    "\n",
    "Transmission\n",
    "============\n",
    "A = automatic\n",
    "AM = automated manual\n",
    "AS = automatic with select shift\n",
    "AV = continuously variable\n",
    "M = manual\n",
    "3 – 10 = Number of gears\n",
    "\n",
    "Fuel type\n",
    "=========\n",
    "X = regular gasoline\n",
    "Z = premium gasoline\n",
    "D = diesel\n",
    "E = ethanol (E85)\n",
    "N = natural gas\n",
    "\n",
    "Fuel consumption\n",
    "================\n",
    "City and highway fuel consumption are shown in liters per 100 kilometers (L/100 km)\n",
    "Combined consumption (55% city, 45% hwy) is shown in liters per 100 kilometers (L/100 km)\n",
    "\n",
    "CO2 emissions / rating\n",
    "======================\n",
    "CO2 emissions\tthe tailpipe emissions of carbon dioxide (in grams per kilometer) for combined city and highway driving\n",
    "CO2 rating\tthe tailpipe emissions of carbon dioxide rated on a scale from 1 (worst) to 10 (best)\n",
    "```"
   ]
  },
  {
   "cell_type": "code",
   "execution_count": 2,
   "id": "af8dfee7-d9d5-4a4b-96e0-dfdcf5dc1411",
   "metadata": {},
   "outputs": [
    {
     "data": {
      "text/html": [
       "<div>\n",
       "<style scoped>\n",
       "    .dataframe tbody tr th:only-of-type {\n",
       "        vertical-align: middle;\n",
       "    }\n",
       "\n",
       "    .dataframe tbody tr th {\n",
       "        vertical-align: top;\n",
       "    }\n",
       "\n",
       "    .dataframe thead th {\n",
       "        text-align: right;\n",
       "    }\n",
       "</style>\n",
       "<table border=\"1\" class=\"dataframe\">\n",
       "  <thead>\n",
       "    <tr style=\"text-align: right;\">\n",
       "      <th></th>\n",
       "      <th>Make</th>\n",
       "      <th>Model</th>\n",
       "      <th>Class</th>\n",
       "      <th>EngineSize</th>\n",
       "      <th>Cylinders</th>\n",
       "      <th>Transmission</th>\n",
       "      <th>FuelType</th>\n",
       "      <th>ConsumptionCity</th>\n",
       "      <th>ConsumptionHwy</th>\n",
       "      <th>ConsumptionComb</th>\n",
       "      <th>CO2_Emissions</th>\n",
       "      <th>CO2_Rating</th>\n",
       "    </tr>\n",
       "  </thead>\n",
       "  <tbody>\n",
       "    <tr>\n",
       "      <th>0</th>\n",
       "      <td>Alfa Romeo</td>\n",
       "      <td>Giulia</td>\n",
       "      <td>Mid-size</td>\n",
       "      <td>2.0</td>\n",
       "      <td>4</td>\n",
       "      <td>A8</td>\n",
       "      <td>Z</td>\n",
       "      <td>10.0</td>\n",
       "      <td>7.2</td>\n",
       "      <td>8.7</td>\n",
       "      <td>205</td>\n",
       "      <td>5</td>\n",
       "    </tr>\n",
       "    <tr>\n",
       "      <th>1</th>\n",
       "      <td>Alfa Romeo</td>\n",
       "      <td>Giulia AWD</td>\n",
       "      <td>Mid-size</td>\n",
       "      <td>2.0</td>\n",
       "      <td>4</td>\n",
       "      <td>A8</td>\n",
       "      <td>Z</td>\n",
       "      <td>10.5</td>\n",
       "      <td>7.7</td>\n",
       "      <td>9.2</td>\n",
       "      <td>217</td>\n",
       "      <td>5</td>\n",
       "    </tr>\n",
       "    <tr>\n",
       "      <th>2</th>\n",
       "      <td>Alfa Romeo</td>\n",
       "      <td>Giulia Quadrifoglio</td>\n",
       "      <td>Mid-size</td>\n",
       "      <td>2.9</td>\n",
       "      <td>6</td>\n",
       "      <td>A8</td>\n",
       "      <td>Z</td>\n",
       "      <td>13.5</td>\n",
       "      <td>9.3</td>\n",
       "      <td>11.6</td>\n",
       "      <td>271</td>\n",
       "      <td>4</td>\n",
       "    </tr>\n",
       "    <tr>\n",
       "      <th>3</th>\n",
       "      <td>Alfa Romeo</td>\n",
       "      <td>Stelvio</td>\n",
       "      <td>SUV: Small</td>\n",
       "      <td>2.0</td>\n",
       "      <td>4</td>\n",
       "      <td>A8</td>\n",
       "      <td>Z</td>\n",
       "      <td>10.3</td>\n",
       "      <td>8.1</td>\n",
       "      <td>9.3</td>\n",
       "      <td>218</td>\n",
       "      <td>5</td>\n",
       "    </tr>\n",
       "    <tr>\n",
       "      <th>4</th>\n",
       "      <td>Alfa Romeo</td>\n",
       "      <td>Stelvio AWD</td>\n",
       "      <td>SUV: Small</td>\n",
       "      <td>2.0</td>\n",
       "      <td>4</td>\n",
       "      <td>A8</td>\n",
       "      <td>Z</td>\n",
       "      <td>10.8</td>\n",
       "      <td>8.3</td>\n",
       "      <td>9.6</td>\n",
       "      <td>226</td>\n",
       "      <td>5</td>\n",
       "    </tr>\n",
       "  </tbody>\n",
       "</table>\n",
       "</div>"
      ],
      "text/plain": [
       "         Make                Model       Class  EngineSize  Cylinders  \\\n",
       "0  Alfa Romeo               Giulia    Mid-size         2.0          4   \n",
       "1  Alfa Romeo           Giulia AWD    Mid-size         2.0          4   \n",
       "2  Alfa Romeo  Giulia Quadrifoglio    Mid-size         2.9          6   \n",
       "3  Alfa Romeo              Stelvio  SUV: Small         2.0          4   \n",
       "4  Alfa Romeo          Stelvio AWD  SUV: Small         2.0          4   \n",
       "\n",
       "  Transmission FuelType  ConsumptionCity  ConsumptionHwy  ConsumptionComb  \\\n",
       "0           A8        Z             10.0             7.2              8.7   \n",
       "1           A8        Z             10.5             7.7              9.2   \n",
       "2           A8        Z             13.5             9.3             11.6   \n",
       "3           A8        Z             10.3             8.1              9.3   \n",
       "4           A8        Z             10.8             8.3              9.6   \n",
       "\n",
       "   CO2_Emissions  CO2_Rating  \n",
       "0            205           5  \n",
       "1            217           5  \n",
       "2            271           4  \n",
       "3            218           5  \n",
       "4            226           5  "
      ]
     },
     "execution_count": 2,
     "metadata": {},
     "output_type": "execute_result"
    }
   ],
   "source": [
    "cars = pd.read_csv(\"MY2023_FuelConsumptionRatings.csv\")\n",
    "cars.head()"
   ]
  },
  {
   "cell_type": "markdown",
   "id": "11821d06-a7aa-44f2-8582-244806b291a0",
   "metadata": {},
   "source": [
    "## Questions"
   ]
  },
  {
   "cell_type": "markdown",
   "id": "f8c6d412-44d3-4da3-920a-7980e344d966",
   "metadata": {},
   "source": [
    "### 1. Exploration\n",
    "\n",
    "In this question we want to get a high level overview of the data set. You should add here some relevant graphs or tables which can help you to understand at a high level what kind of data is within the set.\n",
    "\n",
    "Some suggested graphs are mentioned below. You may add more if you feel they are useful."
   ]
  },
  {
   "cell_type": "code",
   "execution_count": 3,
   "id": "bdceca35-9359-4a0d-ad16-09bd2d072fbb",
   "metadata": {},
   "outputs": [],
   "source": [
    "# Scatter-matrix of all numerical values\n"
   ]
  },
  {
   "cell_type": "code",
   "execution_count": 4,
   "id": "ecc42b45-901a-4037-aaf6-143504fff740",
   "metadata": {},
   "outputs": [],
   "source": [
    "# Histograms of all numerical values\n"
   ]
  },
  {
   "cell_type": "code",
   "execution_count": 5,
   "id": "c46eb9fa-6484-4b72-a510-4481e5e2b035",
   "metadata": {},
   "outputs": [],
   "source": [
    "# Unique values of the categorical values\n"
   ]
  },
  {
   "cell_type": "markdown",
   "id": "39f61e25-68e6-4d47-8de3-0d62932caac9",
   "metadata": {},
   "source": [
    "### 2. Predicting CO$_2$ emissions in function of car fuel consumption\n",
    "\n",
    "The aim is to build a linear model predicting the `CO2_Emissions` in function of the `ConsumptionComb`:\n",
    "$$\n",
    "\\text{CO2_Emissions} = \\beta_0 + \\beta_1 \\cdot \\text{ConsumptionComb}\n",
    "$$\n",
    "\n",
    "Steps:\n",
    "* Build the features matrix and target values vector\n",
    "* Split the set into a training and a test set (you can use [`train_test_split`](https://scikit-learn.org/stable/modules/generated/sklearn.model_selection.train_test_split.html))\n",
    "* Build and train the model using your training set (you can use [`LinearRegression`](https://scikit-learn.org/stable/modules/generated/sklearn.linear_model.LinearRegression.html))\n",
    "* Evaluate the trained model on your test set providing graphs and computing the RMSE (you can use [`mean_squared_error`](https://scikit-learn.org/stable/modules/generated/sklearn.metrics.mean_squared_error.html) but make sure to read the documentation to get indeed the RMSE, or build your own function)\n",
    "* By performing none-parametric bootstrapping estimate the error on the two model parameters $\\beta_0$ and $\\beta_1$"
   ]
  },
  {
   "cell_type": "code",
   "execution_count": 6,
   "id": "8be64076-4ad0-4256-bd0b-e36dd918bd4d",
   "metadata": {},
   "outputs": [],
   "source": [
    "# Features matrix X and target values y\n",
    "\n",
    "X = np.c_[cars.ConsumptionComb]\n",
    "y = np.c_[cars.CO2_Emissions]"
   ]
  },
  {
   "cell_type": "code",
   "execution_count": 7,
   "id": "14ae0652-f276-42c3-a72f-cc9cc733c860",
   "metadata": {},
   "outputs": [],
   "source": [
    "# Training and test set\n"
   ]
  },
  {
   "cell_type": "code",
   "execution_count": 8,
   "id": "8f927d6d-595a-4a94-8ba2-3c875960fc41",
   "metadata": {},
   "outputs": [],
   "source": [
    "# Defintion of the model and training\n"
   ]
  },
  {
   "cell_type": "code",
   "execution_count": 9,
   "id": "4009c1dc-55a6-45c1-8c9d-f9d12c87a799",
   "metadata": {},
   "outputs": [],
   "source": [
    "# Evaluation on the test set of the trained model\n",
    "#\n",
    "# Provide a plot of the predicted CO2_Emissions versus the actual CO2_Emissions\n"
   ]
  },
  {
   "cell_type": "code",
   "execution_count": 10,
   "id": "439084bb-b1a7-4476-8e06-217f54bc8ab7",
   "metadata": {},
   "outputs": [],
   "source": [
    "# Compute the root mean square error (RMSE) on the test set\n"
   ]
  },
  {
   "cell_type": "code",
   "execution_count": 11,
   "id": "ceb05bd5-7cc2-4214-8974-a87b15b0fed4",
   "metadata": {},
   "outputs": [],
   "source": [
    "# Plot on a graph the errors of each sample in the test set and add two horizontal lines showing +RMSE and -RMSE\n"
   ]
  },
  {
   "cell_type": "code",
   "execution_count": 12,
   "id": "cc7c040c-dab2-4456-979c-96ca92fa4688",
   "metadata": {},
   "outputs": [],
   "source": [
    "# Sensitivity analysis (using none-parametric bootstrapping)\n",
    "#\n",
    "# Create a function to draw a random sample from the full data set\n",
    "# You can simply use train_test_split for this operation\n",
    "\n",
    "def bootstrap(X, y):\n",
    "    \"\"\"\n",
    "    Returns a random sample (X_rdm, y_rdm) from the full data set (X, y)\n",
    "    \"\"\"\n",
    "    pass"
   ]
  },
  {
   "cell_type": "code",
   "execution_count": 13,
   "id": "27ab9195-6449-43a7-bc9f-8f47b1592803",
   "metadata": {},
   "outputs": [],
   "source": [
    "# By drawing 10000 random sub-sets, build two lists beta_0 and beta_1 which contains the model parameters computed for each drawn sub-set\n",
    "# You can use the following template as start point\n",
    "\n",
    "beta_0 = []\n",
    "beta_1 = []\n",
    "for i in range(1000):\n",
    "    pass"
   ]
  },
  {
   "cell_type": "code",
   "execution_count": 14,
   "id": "647a8d5f-7084-47ff-94c7-3be02d70a574",
   "metadata": {},
   "outputs": [],
   "source": [
    "# Compute and display the mean values and standard errors of the tow model parameters beta_0 and beta_1\n",
    "# Make sure to add the correct physical units to your printouts\n"
   ]
  },
  {
   "cell_type": "code",
   "execution_count": 15,
   "id": "729a9152-c266-4c68-a19c-266822dd0c6b",
   "metadata": {},
   "outputs": [],
   "source": [
    "# Give an appropriate visual representation of this result (e.g. plotting the histograms of beta_0 and beta_1)\n"
   ]
  },
  {
   "cell_type": "markdown",
   "id": "d6e1a4a0-0a68-4444-887f-5763a1ed34dc",
   "metadata": {},
   "source": [
    "### 3. Predicting the car fuel consumption in function of car characteristics\n",
    "\n",
    "The aim is to build a linear model predicting the `ConsumptionComb` in function of the car characteristics `EngineSize`, `Cylinders` and `FuelType`.\n",
    "\n",
    "The model will be a linear model with polynomial base functions (use [`PolynomialFeatures`](https://scikit-learn.org/stable/modules/generated/sklearn.preprocessing.PolynomialFeatures.html) to transform the features).\n",
    "\n",
    "To encode the categorical feature `FuelType` we will use one-hot encoding with [`OneHotEncoder`](https://scikit-learn.org/stable/modules/generated/sklearn.preprocessing.OneHotEncoder.html).\n",
    "\n",
    "Steps:\n",
    "* Build the features matrix and target values vector\n",
    "* Split the set into a training and a test set (you can use [`train_test_split`](https://scikit-learn.org/stable/modules/generated/sklearn.model_selection.train_test_split.html))\n",
    "* Build a [`Pipeline`](https://scikit-learn.org/stable/modules/generated/sklearn.pipeline.Pipeline.html) which will one-hot encode the categorical feature `FuelType`, apply the `PolynomialFeatures` transformer on the numerical features `EngineSize` and `Cylinders` and afterwards perform linear regression with [`LinearRegression`](https://scikit-learn.org/stable/modules/generated/sklearn.linear_model.LinearRegression.html)).\n",
    "* Using cross validation, find the best degree n of the polynomial for the `PolynomialFeatures` transformer\n",
    "* Build and train the model using your training set and optimal degree n\n",
    "* Evaluate the trained model on your test set providing graphs and computing the RMSE (you can use [`mean_squared_error`](https://scikit-learn.org/stable/modules/generated/sklearn.metrics.mean_squared_error.html) but make sure to read the documentation to get indeed the RMSE, or build your own function)"
   ]
  },
  {
   "cell_type": "code",
   "execution_count": 16,
   "id": "e67afde2-6f72-432d-9a51-a763cdfaccd9",
   "metadata": {},
   "outputs": [],
   "source": [
    "# Features matrix X and target values y\n",
    "\n",
    "X = np.c_[cars.EngineSize, cars.Cylinders, cars.FuelType]\n",
    "y = np.c_[cars.ConsumptionComb]"
   ]
  },
  {
   "cell_type": "code",
   "execution_count": 17,
   "id": "420375de-fd90-4786-832c-94fe69e12b2f",
   "metadata": {},
   "outputs": [],
   "source": [
    "# Training and test set\n"
   ]
  },
  {
   "cell_type": "code",
   "execution_count": 18,
   "id": "34be085d-3808-48cc-8308-7a60d26225ea",
   "metadata": {},
   "outputs": [],
   "source": [
    "# Pipline to transform the features (PolynomialFeatures for numerical and OneHotEncoder for categorical features) and feed a LinearRegression regressor\n",
    "# Use the template below\n",
    "#\n",
    "# Note: make sure to include the categories option in the OneHotEncoder as otherwhise your cross validation will run into problems\n",
    "\n",
    "def createModel(n):\n",
    "    \"\"\"\n",
    "    Creates and returns pipeline for the model\n",
    "    n = degree of polynomial of the PolynomialFeatures transformer\n",
    "    \"\"\"\n",
    "    pass"
   ]
  },
  {
   "cell_type": "markdown",
   "id": "0662e167-a5b1-4b8b-b77a-efad89bff3a2",
   "metadata": {},
   "source": [
    "![Pipeline](img/pipeline1.png \"Visual representation of the pipeline\")"
   ]
  },
  {
   "cell_type": "code",
   "execution_count": 19,
   "id": "1a9c42e1-01be-45e6-a95f-5b05d8ab8532",
   "metadata": {},
   "outputs": [],
   "source": [
    "# Use cross validation (using your training set) to find the best degree n of of the polynomial of the PolynomialFeatures transformer\n",
    "#"
   ]
  },
  {
   "cell_type": "code",
   "execution_count": 20,
   "id": "6ebc04fa-dfdb-4b4d-9dd9-f280d9007ee6",
   "metadata": {},
   "outputs": [],
   "source": [
    "# Train your model with the optimal degree n using your training set\n"
   ]
  },
  {
   "cell_type": "code",
   "execution_count": 21,
   "id": "7b3b892a-ec17-49df-a9a2-545452066d0d",
   "metadata": {},
   "outputs": [],
   "source": [
    "# Evaluation on the test set of the trained model\n",
    "#\n",
    "# Provide a plot of the predicted combined fuel consumption versus the actual combined fuel consumption\n"
   ]
  },
  {
   "cell_type": "code",
   "execution_count": 22,
   "id": "8982c407-5f1e-4a8f-b10f-c3ee17783219",
   "metadata": {},
   "outputs": [],
   "source": [
    "# Compute the root mean square error (RMSE) on the test set\n"
   ]
  },
  {
   "cell_type": "code",
   "execution_count": 23,
   "id": "562f7453-d9ee-4e1c-93d2-00e15d69a996",
   "metadata": {},
   "outputs": [],
   "source": [
    "# Plot on a graph the errors of each sample in the test set and add two horizontal lines showing +RMSE and -RMSE\n"
   ]
  },
  {
   "cell_type": "markdown",
   "id": "852a3a43-6d4a-47c2-bce5-01dc454e7d12",
   "metadata": {},
   "source": [
    "### 4. Predicting the car fuel consumption in function of car characteristics\n",
    "\n",
    "The aim is to build a KNN regression model predicting the `ConsumptionComb` in function of the car characteristics `EngineSize`, `Cylinders`, `FuelType` and `Class`.\n",
    "\n",
    "The model will be a KNN model. Recall that a KNN model requires scaling of the numerical features in order to bring them all in a similar scale. In our case we will use the [`StandardScaler`](https://scikit-learn.org/stable/modules/generated/sklearn.preprocessing.StandardScaler.html).\n",
    "\n",
    "To encode the categorical features `FuelType` and `Class` we will use one-hot encoding with [`OneHotEncoder`](https://scikit-learn.org/stable/modules/generated/sklearn.preprocessing.OneHotEncoder.html).\n",
    "\n",
    "Steps:\n",
    "* Build the features matrix and target values vector\n",
    "* Split the set into a training and a test set (you can use [`train_test_split`](https://scikit-learn.org/stable/modules/generated/sklearn.model_selection.train_test_split.html))\n",
    "* Build a [`Pipeline`](https://scikit-learn.org/stable/modules/generated/sklearn.pipeline.Pipeline.html) which will one-hot encode the categorical features `FuelType` and `class`, apply a `StandardScaler` transformer on the numerical features `EngineSize` and `Cylinders` and afterwards perform KNN regression with [`KNeighborsRegressor`](https://scikit-learn.org/stable/modules/generated/sklearn.neighbors.KNeighborsRegressor.html)).\n",
    "* Using cross validation, find the the number K of nearest neighbors to use in the `KNeighborsRegressor`\n",
    "* Build and train the model using your training set and the number K of nearest neighbors to use in the `KNeighborsRegressor`\n",
    "* Evaluate the trained model on your test set providing graphs and computing the RMSE (you can use [`mean_squared_error`](https://scikit-learn.org/stable/modules/generated/sklearn.metrics.mean_squared_error.html) but make sure to read the documentation to get indeed the RMSE, or build your own function)"
   ]
  },
  {
   "cell_type": "code",
   "execution_count": 24,
   "id": "765c2a00-1ff7-421f-a21f-0897c4e49b8f",
   "metadata": {},
   "outputs": [],
   "source": [
    "# Features matrix X and target values y\n",
    "\n",
    "X = np.c_[cars.EngineSize, cars.Cylinders, cars.FuelType, cars.Class]\n",
    "y = np.c_[cars.ConsumptionComb]"
   ]
  },
  {
   "cell_type": "code",
   "execution_count": 25,
   "id": "4cf66ab8-46b6-4140-b177-f098a6e5acac",
   "metadata": {},
   "outputs": [],
   "source": [
    "# Training and test set\n"
   ]
  },
  {
   "cell_type": "code",
   "execution_count": 26,
   "id": "e762a2be-939d-4644-8322-0538d42ca15e",
   "metadata": {},
   "outputs": [],
   "source": [
    "# Pipline to transform the features (StandardScaler for numerical and OneHotEncoder for categorical features) and feed a KNeighborsRegressor regressor\n",
    "# Use the template below\n",
    "#\n",
    "# Note: make sure to include the categories option in the OneHotEncoder as otherwhise your cross validation will run into problems\n",
    "\n",
    "def createModel(n):\n",
    "    \"\"\"\n",
    "    Creates and returns pipeline for the model\n",
    "    n = degree of polynomial of the PolynomialFeatures transformer\n",
    "    \"\"\"\n",
    "    pass"
   ]
  },
  {
   "cell_type": "markdown",
   "id": "9d3d5392-904f-4723-8e00-b1f0f4dbacf0",
   "metadata": {},
   "source": [
    "![Pipeline](img/pipeline2.png \"Visual representation of the pipeline\")"
   ]
  },
  {
   "cell_type": "code",
   "execution_count": 27,
   "id": "f07794bf-4690-476b-970a-2b2acef3e7b4",
   "metadata": {},
   "outputs": [],
   "source": [
    "# Use cross validation (using your training set) to find the number K of nearest neighbors to use in the KNeighborsRegressor\n",
    "#"
   ]
  },
  {
   "cell_type": "code",
   "execution_count": 28,
   "id": "79fcfe34-2b1f-4378-b624-ff12357b1a06",
   "metadata": {},
   "outputs": [],
   "source": [
    "# Train your model with the optimal number K of nearest neighbors\n"
   ]
  },
  {
   "cell_type": "code",
   "execution_count": 29,
   "id": "646415c7-a796-4e8c-a918-34955c17f1c4",
   "metadata": {},
   "outputs": [],
   "source": [
    "# Evaluation on the test set of the trained model\n",
    "#\n",
    "# Provide a plot of the predicted combined fuel consumption versus the actual combined fuel consumption\n"
   ]
  },
  {
   "cell_type": "code",
   "execution_count": 30,
   "id": "3435c5c6-7694-41e8-909f-546f2b359386",
   "metadata": {},
   "outputs": [],
   "source": [
    "# Compute the root mean square error (RMSE) on the test set\n"
   ]
  }
 ],
 "metadata": {
  "kernelspec": {
   "display_name": "SciKit Learn",
   "language": "python",
   "name": "scikit"
  },
  "language_info": {
   "codemirror_mode": {
    "name": "ipython",
    "version": 3
   },
   "file_extension": ".py",
   "mimetype": "text/x-python",
   "name": "python",
   "nbconvert_exporter": "python",
   "pygments_lexer": "ipython3",
   "version": "3.10.8"
  }
 },
 "nbformat": 4,
 "nbformat_minor": 5
}
